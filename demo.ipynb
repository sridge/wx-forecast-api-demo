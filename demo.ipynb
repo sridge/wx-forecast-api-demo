{
 "cells": [
  {
   "cell_type": "markdown",
   "metadata": {},
   "source": [
    "# Weather Forecast Demo\n",
    "\n",
    "This is all part of project I'm working on with [William Vuong](https://github.com/wnvuong). I've written the API that returns a hyperlocal weather forecast and William does all of the iOS app development and manages the Amazon EC2 instance. "
   ]
  },
  {
   "cell_type": "code",
   "execution_count": 1,
   "metadata": {},
   "outputs": [],
   "source": [
    "import datetime\n",
    "\n",
    "import bokeh\n",
    "from bokeh.layouts import gridplot\n",
    "from bokeh.plotting import figure, output_file, show\n",
    "\n",
    "import numpy as np\n",
    "import pandas as pd\n",
    "import xarray as xr\n",
    "from geopy.geocoders import Nominatim\n",
    "\n",
    "import utils\n",
    "import forecast"
   ]
  },
  {
   "cell_type": "code",
   "execution_count": 2,
   "metadata": {},
   "outputs": [],
   "source": [
    "import matplotlib.pyplot as plt"
   ]
  },
  {
   "cell_type": "code",
   "execution_count": 3,
   "metadata": {},
   "outputs": [],
   "source": [
    "path = '../meteori/forecast-service/forecast/'"
   ]
  },
  {
   "cell_type": "markdown",
   "metadata": {},
   "source": [
    "# We're going to go through this function\n",
    "\n",
    "This is what is being done on the server when we return a forecast. Flask is used to return a JSON file. Datasets are stored on our own server. For testing purposes I created the ```get_forecast_nomads()``` function which is slightly different than the ```get_forecast()``` function we use on our server. Here, I load  the datasets from the public NOMADS server, which makes this method much slower than what would happen on our own server, but allows for me to rapidly test things locally."
   ]
  },
  {
   "cell_type": "code",
   "execution_count": 4,
   "metadata": {},
   "outputs": [],
   "source": [
    "def get_forecast_nomads(lat, lon, nn_model, date=datetime.datetime.today()):\n",
    "    \"\"\"Calculates the Meteori Ensemble Forecast using the NOMADS server\n",
    "\n",
    "    The \"best guess\" is the mean of the Meteori neural network \n",
    "    downscaled GEFS mean, the NOAA downscaled GEFS mean, and 0.25 \n",
    "    degree GFS. The spread is the max and min across both the ensembles \n",
    "    (NOAA and Metori) and 0.25 degree GFS\n",
    "\n",
    "    Args:\n",
    "        lat: latitude (-90 - 90)\n",
    "        lon: longitude (0-360)\n",
    "        date: default value is current time, but in theory can pass any \n",
    "        date (this data may not be on the server however)\n",
    "\n",
    "    Returns:\n",
    "        xarray Dataset containing the best guess ('tmp2m') and forecast\n",
    "        spread ('tmp2m_max' and 'tmp2m_min')\n",
    "\n",
    "    \"\"\"\n",
    "\n",
    "    year = date.year\n",
    "    month = f'{date.month:02d}'\n",
    "    day = f'{date.day:02d}'\n",
    "    forecast_start_time = '00'\n",
    "\n",
    "    # currently reading directly from the NOMADs server\n",
    "    # Probably should read paths from a json file\n",
    "\n",
    "    base_url = 'https://nomads.ncep.noaa.gov:9090/dods/'\n",
    "\n",
    "    dset_paths = {'gefs': f'{base_url}gens/gens{year}{month}{day}/gep_all_{forecast_start_time}z',\n",
    "                  'gefs_0p5': f'{base_url}gens_bc/gens{year}{month}{day}/gep_all_{forecast_start_time}z',\n",
    "                  'gfs_0p25': f'{base_url}gfs_0p25_1hr/gfs{year}{month}{day}/gfs_0p25_1hr_{forecast_start_time}z', }\n",
    "\n",
    "    gefs, gfs, gefs_0p5 = load_datasets_from_nomads(dset_paths)\n",
    "\n",
    "    print('Load Datasets (1/3) \\n')\n",
    "\n",
    "    print('start loading datasets')\n",
    "\n",
    "    gefs = sample_point(lat, lon, gefs, res=1)\n",
    "    gefs['lat'] = lat\n",
    "    gefs['lon'] = lon\n",
    "    gefs = gefs.load()\n",
    "\n",
    "    gfs = sample_point(lat, lon, gfs, res=0.25)\n",
    "    gfs['lat'] = lat\n",
    "    gfs['lon'] = lon\n",
    "    gfs = gfs.load()\n",
    "\n",
    "    gefs_0p5 = sample_point(lat, lon, gefs_0p5, res=0.5)\n",
    "    gefs_0p5['lat'] = lat\n",
    "    gefs_0p5['lon'] = lon\n",
    "    gefs_0p5 = gefs_0p5.load()\n",
    "    print('finished loading datasets')\n",
    "\n",
    "    print('Run Neural Network (2/3) \\n')\n",
    "    gefs = run_nn(gefs=gefs,nn_model=nn_model)\n",
    "\n",
    "    print('Calculating Forecast (3/3) \\n')\n",
    "    # temporary fix (L518-L521)\n",
    "    # wnd10m and app_tmp2m should be calculated before and read from server\n",
    "    gefs_0p5['wnd10m'] = wind_speed(gefs_0p5['vgrd10m'], gefs_0p5['ugrd10m'])\n",
    "    gfs['wnd10m'] = wind_speed(gfs['vgrd10m'], gfs['ugrd10m'])\n",
    "    gefs_0p5['app_tmp2m'] = calculate_app_temp(\n",
    "        gefs_0p5['wnd10m'], gefs_0p5['tmp2m'], gefs_0p5['dpt2m'])\n",
    "    gfs['app_tmp2m'] = calculate_app_temp(\n",
    "        gfs['wnd10m'], gfs['tmp2m'], gfs['dpt2m'])    \n",
    "\n",
    "    ds_out = calculate_forecast_tmp2m(gefs, gefs_0p5, gfs)\n",
    "\n",
    "    ds_out = extract_forecast_ovar('wnd10m', ds_out, gfs, gefs_0p5)\n",
    "    ds_out = extract_forecast_ovar('app_tmp2m', ds_out, gfs, gefs_0p5)\n",
    "    ds_out = extract_forecast_ovar('dpt2m', ds_out, gfs, gefs_0p5)\n",
    "    ds_out['dpt2m'] = ds_out['dpt2m']-273.15\n",
    "    ds_out['dpt2m_max'] = ds_out['dpt2m_max']-273.15\n",
    "    ds_out['dpt2m_min'] = ds_out['dpt2m_min']-273.15\n",
    "\n",
    "    ds_out = np.round(ds_out,1)\n",
    "\n",
    "    ds_out = calculate_precip_prob(ds_out, gefs)\n",
    "\n",
    "    for ptype in ['pcticep','pctsnow','pctfrzr','pctrain']:\n",
    "        ds_out[ptype] = np.round(ds_out[ptype],2)\n",
    "\n",
    "    ds_out['lat'] = lat\n",
    "    ds_out['lon'] = lon\n",
    "\n",
    "    json_output = to_json(ds_out,gfs)\n",
    "\n",
    "    return json_output"
   ]
  },
  {
   "cell_type": "markdown",
   "metadata": {},
   "source": [
    "# Give a location, return lat/lon"
   ]
  },
  {
   "cell_type": "code",
   "execution_count": 5,
   "metadata": {},
   "outputs": [
    {
     "data": {
      "text/plain": [
       "'Taos Ski Valley, Taos County, New Mexico, 87525, United States of America'"
      ]
     },
     "execution_count": 5,
     "metadata": {},
     "output_type": "execute_result"
    }
   ],
   "source": [
    "geolocator = Nominatim(user_agent=\"meteori\")\n",
    "location = geolocator.geocode('Taos Ski Valley, NM')\n",
    "location.address"
   ]
  },
  {
   "cell_type": "code",
   "execution_count": 6,
   "metadata": {},
   "outputs": [],
   "source": [
    "lat, lon = location.latitude, location.longitude+360\n",
    "date = datetime.datetime.today()"
   ]
  },
  {
   "cell_type": "code",
   "execution_count": 7,
   "metadata": {},
   "outputs": [],
   "source": [
    "year = date.year\n",
    "month = f'{date.month:02d}'\n",
    "day = f'{date.day:02d}'\n",
    "forecast_start_time = '00'"
   ]
  },
  {
   "cell_type": "markdown",
   "metadata": {},
   "source": [
    "# Pull remote datasets from OpenDAP server"
   ]
  },
  {
   "cell_type": "code",
   "execution_count": 8,
   "metadata": {},
   "outputs": [],
   "source": [
    "# base_url = 'https://nomads.ncep.noaa.gov:9090/dods/'\n",
    "\n",
    "# dset_paths = {'gefs': f'{base_url}gens/gens{year}{month}{day}/gep_all_{forecast_start_time}z',\n",
    "#               'gefs_0p5': f'{base_url}gens_bc/gens{year}{month}{day}/gep_all_{forecast_start_time}z',\n",
    "#               'gfs_0p25': f'{base_url}gfs_0p25_1hr/gfs{year}{month}{day}/gfs_0p25_1hr_{forecast_start_time}z', }\n",
    "\n",
    "# gefs, gfs, gefs_0p5 = forecast.load_datasets_from_nomads(dset_paths)"
   ]
  },
  {
   "cell_type": "markdown",
   "metadata": {},
   "source": [
    "# Subsample datasets for just our location"
   ]
  },
  {
   "cell_type": "code",
   "execution_count": 9,
   "metadata": {},
   "outputs": [],
   "source": [
    "# gefs = forecast.sample_point(lat, lon, gefs, res=1)\n",
    "# gefs['lat'] = lat\n",
    "# gefs['lon'] = lon\n",
    "# gefs = gefs.load()\n",
    "\n",
    "# gfs = forecast.sample_point(lat, lon, gfs, res=0.25)\n",
    "# gfs['lat'] = lat\n",
    "# gfs['lon'] = lon\n",
    "# gfs = gfs.load()\n",
    "\n",
    "# gefs_0p5 = forecast.sample_point(lat, lon, gefs_0p5, res=0.5)\n",
    "# gefs_0p5['lat'] = lat\n",
    "# gefs_0p5['lon'] = lon\n",
    "# gefs_0p5 = gefs_0p5.load()"
   ]
  },
  {
   "cell_type": "code",
   "execution_count": 10,
   "metadata": {},
   "outputs": [],
   "source": [
    "# gfs.to_netcdf(f'{path}gfs.nc')\n",
    "# gefs.to_netcdf(f'{path}gefs.nc')\n",
    "# gefs_0p5.to_netcdf(f'{path}gefs_0p5.nc')"
   ]
  },
  {
   "cell_type": "code",
   "execution_count": 11,
   "metadata": {},
   "outputs": [],
   "source": [
    "gfs = xr.open_dataset(f'{path}gfs.nc')\n",
    "gefs = xr.open_dataset(f'{path}gefs.nc')\n",
    "gefs_0p5 = xr.open_dataset(f'{path}gefs_0p5.nc')"
   ]
  },
  {
   "cell_type": "markdown",
   "metadata": {},
   "source": [
    "# Bias correct the GEFS with the Neural Network"
   ]
  },
  {
   "cell_type": "code",
   "execution_count": 12,
   "metadata": {},
   "outputs": [],
   "source": [
    "nn_model = forecast.load_nn(path_to_nn_model=path)"
   ]
  },
  {
   "cell_type": "code",
   "execution_count": 13,
   "metadata": {},
   "outputs": [],
   "source": [
    "gefs = forecast.run_nn(path_to_nn_model=path,gefs=gefs,nn_model=nn_model)"
   ]
  },
  {
   "cell_type": "markdown",
   "metadata": {},
   "source": [
    "# Calculate a bunch of forecast parameters"
   ]
  },
  {
   "cell_type": "code",
   "execution_count": 14,
   "metadata": {},
   "outputs": [],
   "source": [
    "gefs_0p5['wnd10m'] = forecast.wind_speed(gefs_0p5['vgrd10m'], gefs_0p5['ugrd10m'])\n",
    "gfs['wnd10m'] = forecast.wind_speed(gfs['vgrd10m'], gfs['ugrd10m'])\n",
    "gefs_0p5['app_tmp2m'] = forecast.calculate_app_temp(\n",
    "    gefs_0p5['wnd10m'], gefs_0p5['tmp2m'], gefs_0p5['dpt2m'])\n",
    "gfs['app_tmp2m'] = forecast.calculate_app_temp(\n",
    "    gfs['wnd10m'], gfs['tmp2m'], gfs['dpt2m'])    \n",
    "\n",
    "ds_out = forecast.calculate_forecast_tmp2m(gefs, gefs_0p5, gfs)\n",
    "\n",
    "ds_out = forecast.extract_forecast_ovar('wnd10m', ds_out, gfs, gefs_0p5)\n",
    "ds_out = forecast.extract_forecast_ovar('app_tmp2m', ds_out, gfs, gefs_0p5)\n",
    "ds_out = forecast.extract_forecast_ovar('dpt2m', ds_out, gfs, gefs_0p5)\n",
    "ds_out['dpt2m'] = ds_out['dpt2m']-273.15\n",
    "ds_out['dpt2m_max'] = ds_out['dpt2m_max']-273.15\n",
    "ds_out['dpt2m_min'] = ds_out['dpt2m_min']-273.15\n",
    "\n",
    "ds_out = np.round(ds_out,1)\n",
    "\n",
    "ds_out = forecast.calculate_precip_prob(ds_out, gefs)\n",
    "\n",
    "for ptype in ['pcticep','pctsnow','pctfrzr','pctrain']:\n",
    "    ds_out[ptype] = np.round(ds_out[ptype],2)"
   ]
  },
  {
   "cell_type": "markdown",
   "metadata": {},
   "source": [
    "# Generate dictionary for JSON file"
   ]
  },
  {
   "cell_type": "code",
   "execution_count": 15,
   "metadata": {},
   "outputs": [],
   "source": [
    "ds_out['lat'] = lat\n",
    "ds_out['lon'] = lon\n",
    "\n",
    "json_output = forecast.to_json(ds_out,gfs)"
   ]
  },
  {
   "cell_type": "code",
   "execution_count": 16,
   "metadata": {},
   "outputs": [
    {
     "data": {
      "text/plain": [
       "dict_keys(['time', 'temperature', 'dew_point', 'apparent_temp', 'wind_speed', 'precip_prob', 'daily_temperature', 'hourly_description', 'day_description', 'night_description'])"
      ]
     },
     "execution_count": 16,
     "metadata": {},
     "output_type": "execute_result"
    }
   ],
   "source": [
    "json_output['forecast'].keys()"
   ]
  },
  {
   "cell_type": "markdown",
   "metadata": {},
   "source": [
    "# Visualize"
   ]
  },
  {
   "cell_type": "code",
   "execution_count": 17,
   "metadata": {},
   "outputs": [
    {
     "data": {
      "text/html": [
       "\n",
       "    <div class=\"bk-root\">\n",
       "        <a href=\"https://bokeh.org\" target=\"_blank\" class=\"bk-logo bk-logo-small bk-logo-notebook\"></a>\n",
       "        <span id=\"1001\">Loading BokehJS ...</span>\n",
       "    </div>"
      ]
     },
     "metadata": {},
     "output_type": "display_data"
    },
    {
     "data": {
      "application/javascript": [
       "\n",
       "(function(root) {\n",
       "  function now() {\n",
       "    return new Date();\n",
       "  }\n",
       "\n",
       "  var force = true;\n",
       "\n",
       "  if (typeof root._bokeh_onload_callbacks === \"undefined\" || force === true) {\n",
       "    root._bokeh_onload_callbacks = [];\n",
       "    root._bokeh_is_loading = undefined;\n",
       "  }\n",
       "\n",
       "  var JS_MIME_TYPE = 'application/javascript';\n",
       "  var HTML_MIME_TYPE = 'text/html';\n",
       "  var EXEC_MIME_TYPE = 'application/vnd.bokehjs_exec.v0+json';\n",
       "  var CLASS_NAME = 'output_bokeh rendered_html';\n",
       "\n",
       "  /**\n",
       "   * Render data to the DOM node\n",
       "   */\n",
       "  function render(props, node) {\n",
       "    var script = document.createElement(\"script\");\n",
       "    node.appendChild(script);\n",
       "  }\n",
       "\n",
       "  /**\n",
       "   * Handle when an output is cleared or removed\n",
       "   */\n",
       "  function handleClearOutput(event, handle) {\n",
       "    var cell = handle.cell;\n",
       "\n",
       "    var id = cell.output_area._bokeh_element_id;\n",
       "    var server_id = cell.output_area._bokeh_server_id;\n",
       "    // Clean up Bokeh references\n",
       "    if (id != null && id in Bokeh.index) {\n",
       "      Bokeh.index[id].model.document.clear();\n",
       "      delete Bokeh.index[id];\n",
       "    }\n",
       "\n",
       "    if (server_id !== undefined) {\n",
       "      // Clean up Bokeh references\n",
       "      var cmd = \"from bokeh.io.state import curstate; print(curstate().uuid_to_server['\" + server_id + \"'].get_sessions()[0].document.roots[0]._id)\";\n",
       "      cell.notebook.kernel.execute(cmd, {\n",
       "        iopub: {\n",
       "          output: function(msg) {\n",
       "            var id = msg.content.text.trim();\n",
       "            if (id in Bokeh.index) {\n",
       "              Bokeh.index[id].model.document.clear();\n",
       "              delete Bokeh.index[id];\n",
       "            }\n",
       "          }\n",
       "        }\n",
       "      });\n",
       "      // Destroy server and session\n",
       "      var cmd = \"import bokeh.io.notebook as ion; ion.destroy_server('\" + server_id + \"')\";\n",
       "      cell.notebook.kernel.execute(cmd);\n",
       "    }\n",
       "  }\n",
       "\n",
       "  /**\n",
       "   * Handle when a new output is added\n",
       "   */\n",
       "  function handleAddOutput(event, handle) {\n",
       "    var output_area = handle.output_area;\n",
       "    var output = handle.output;\n",
       "\n",
       "    // limit handleAddOutput to display_data with EXEC_MIME_TYPE content only\n",
       "    if ((output.output_type != \"display_data\") || (!output.data.hasOwnProperty(EXEC_MIME_TYPE))) {\n",
       "      return\n",
       "    }\n",
       "\n",
       "    var toinsert = output_area.element.find(\".\" + CLASS_NAME.split(' ')[0]);\n",
       "\n",
       "    if (output.metadata[EXEC_MIME_TYPE][\"id\"] !== undefined) {\n",
       "      toinsert[toinsert.length - 1].firstChild.textContent = output.data[JS_MIME_TYPE];\n",
       "      // store reference to embed id on output_area\n",
       "      output_area._bokeh_element_id = output.metadata[EXEC_MIME_TYPE][\"id\"];\n",
       "    }\n",
       "    if (output.metadata[EXEC_MIME_TYPE][\"server_id\"] !== undefined) {\n",
       "      var bk_div = document.createElement(\"div\");\n",
       "      bk_div.innerHTML = output.data[HTML_MIME_TYPE];\n",
       "      var script_attrs = bk_div.children[0].attributes;\n",
       "      for (var i = 0; i < script_attrs.length; i++) {\n",
       "        toinsert[toinsert.length - 1].firstChild.setAttribute(script_attrs[i].name, script_attrs[i].value);\n",
       "        toinsert[toinsert.length - 1].firstChild.textContent = bk_div.children[0].textContent\n",
       "      }\n",
       "      // store reference to server id on output_area\n",
       "      output_area._bokeh_server_id = output.metadata[EXEC_MIME_TYPE][\"server_id\"];\n",
       "    }\n",
       "  }\n",
       "\n",
       "  function register_renderer(events, OutputArea) {\n",
       "\n",
       "    function append_mime(data, metadata, element) {\n",
       "      // create a DOM node to render to\n",
       "      var toinsert = this.create_output_subarea(\n",
       "        metadata,\n",
       "        CLASS_NAME,\n",
       "        EXEC_MIME_TYPE\n",
       "      );\n",
       "      this.keyboard_manager.register_events(toinsert);\n",
       "      // Render to node\n",
       "      var props = {data: data, metadata: metadata[EXEC_MIME_TYPE]};\n",
       "      render(props, toinsert[toinsert.length - 1]);\n",
       "      element.append(toinsert);\n",
       "      return toinsert\n",
       "    }\n",
       "\n",
       "    /* Handle when an output is cleared or removed */\n",
       "    events.on('clear_output.CodeCell', handleClearOutput);\n",
       "    events.on('delete.Cell', handleClearOutput);\n",
       "\n",
       "    /* Handle when a new output is added */\n",
       "    events.on('output_added.OutputArea', handleAddOutput);\n",
       "\n",
       "    /**\n",
       "     * Register the mime type and append_mime function with output_area\n",
       "     */\n",
       "    OutputArea.prototype.register_mime_type(EXEC_MIME_TYPE, append_mime, {\n",
       "      /* Is output safe? */\n",
       "      safe: true,\n",
       "      /* Index of renderer in `output_area.display_order` */\n",
       "      index: 0\n",
       "    });\n",
       "  }\n",
       "\n",
       "  // register the mime type if in Jupyter Notebook environment and previously unregistered\n",
       "  if (root.Jupyter !== undefined) {\n",
       "    var events = require('base/js/events');\n",
       "    var OutputArea = require('notebook/js/outputarea').OutputArea;\n",
       "\n",
       "    if (OutputArea.prototype.mime_types().indexOf(EXEC_MIME_TYPE) == -1) {\n",
       "      register_renderer(events, OutputArea);\n",
       "    }\n",
       "  }\n",
       "\n",
       "  \n",
       "  if (typeof (root._bokeh_timeout) === \"undefined\" || force === true) {\n",
       "    root._bokeh_timeout = Date.now() + 5000;\n",
       "    root._bokeh_failed_load = false;\n",
       "  }\n",
       "\n",
       "  var NB_LOAD_WARNING = {'data': {'text/html':\n",
       "     \"<div style='background-color: #fdd'>\\n\"+\n",
       "     \"<p>\\n\"+\n",
       "     \"BokehJS does not appear to have successfully loaded. If loading BokehJS from CDN, this \\n\"+\n",
       "     \"may be due to a slow or bad network connection. Possible fixes:\\n\"+\n",
       "     \"</p>\\n\"+\n",
       "     \"<ul>\\n\"+\n",
       "     \"<li>re-rerun `output_notebook()` to attempt to load from CDN again, or</li>\\n\"+\n",
       "     \"<li>use INLINE resources instead, as so:</li>\\n\"+\n",
       "     \"</ul>\\n\"+\n",
       "     \"<code>\\n\"+\n",
       "     \"from bokeh.resources import INLINE\\n\"+\n",
       "     \"output_notebook(resources=INLINE)\\n\"+\n",
       "     \"</code>\\n\"+\n",
       "     \"</div>\"}};\n",
       "\n",
       "  function display_loaded() {\n",
       "    var el = document.getElementById(\"1001\");\n",
       "    if (el != null) {\n",
       "      el.textContent = \"BokehJS is loading...\";\n",
       "    }\n",
       "    if (root.Bokeh !== undefined) {\n",
       "      if (el != null) {\n",
       "        el.textContent = \"BokehJS \" + root.Bokeh.version + \" successfully loaded.\";\n",
       "      }\n",
       "    } else if (Date.now() < root._bokeh_timeout) {\n",
       "      setTimeout(display_loaded, 100)\n",
       "    }\n",
       "  }\n",
       "\n",
       "\n",
       "  function run_callbacks() {\n",
       "    try {\n",
       "      root._bokeh_onload_callbacks.forEach(function(callback) {\n",
       "        if (callback != null)\n",
       "          callback();\n",
       "      });\n",
       "    } finally {\n",
       "      delete root._bokeh_onload_callbacks\n",
       "    }\n",
       "    console.debug(\"Bokeh: all callbacks have finished\");\n",
       "  }\n",
       "\n",
       "  function load_libs(css_urls, js_urls, callback) {\n",
       "    if (css_urls == null) css_urls = [];\n",
       "    if (js_urls == null) js_urls = [];\n",
       "\n",
       "    root._bokeh_onload_callbacks.push(callback);\n",
       "    if (root._bokeh_is_loading > 0) {\n",
       "      console.debug(\"Bokeh: BokehJS is being loaded, scheduling callback at\", now());\n",
       "      return null;\n",
       "    }\n",
       "    if (js_urls == null || js_urls.length === 0) {\n",
       "      run_callbacks();\n",
       "      return null;\n",
       "    }\n",
       "    console.debug(\"Bokeh: BokehJS not loaded, scheduling load and callback at\", now());\n",
       "    root._bokeh_is_loading = css_urls.length + js_urls.length;\n",
       "\n",
       "    function on_load() {\n",
       "      root._bokeh_is_loading--;\n",
       "      if (root._bokeh_is_loading === 0) {\n",
       "        console.debug(\"Bokeh: all BokehJS libraries/stylesheets loaded\");\n",
       "        run_callbacks()\n",
       "      }\n",
       "    }\n",
       "\n",
       "    function on_error() {\n",
       "      console.error(\"failed to load \" + url);\n",
       "    }\n",
       "\n",
       "    for (var i = 0; i < css_urls.length; i++) {\n",
       "      var url = css_urls[i];\n",
       "      const element = document.createElement(\"link\");\n",
       "      element.onload = on_load;\n",
       "      element.onerror = on_error;\n",
       "      element.rel = \"stylesheet\";\n",
       "      element.type = \"text/css\";\n",
       "      element.href = url;\n",
       "      console.debug(\"Bokeh: injecting link tag for BokehJS stylesheet: \", url);\n",
       "      document.body.appendChild(element);\n",
       "    }\n",
       "\n",
       "    const hashes = {\"https://cdn.bokeh.org/bokeh/release/bokeh-2.1.1.min.js\": \"kLr4fYcqcSpbuI95brIH3vnnYCquzzSxHPU6XGQCIkQRGJwhg0StNbj1eegrHs12\", \"https://cdn.bokeh.org/bokeh/release/bokeh-widgets-2.1.1.min.js\": \"xIGPmVtaOm+z0BqfSOMn4lOR6ciex448GIKG4eE61LsAvmGj48XcMQZtKcE/UXZe\", \"https://cdn.bokeh.org/bokeh/release/bokeh-tables-2.1.1.min.js\": \"Dc9u1wF/0zApGIWoBbH77iWEHtdmkuYWG839Uzmv8y8yBLXebjO9ZnERsde5Ln/P\", \"https://cdn.bokeh.org/bokeh/release/bokeh-gl-2.1.1.min.js\": \"cT9JaBz7GiRXdENrJLZNSC6eMNF3nh3fa5fTF51Svp+ukxPdwcU5kGXGPBgDCa2j\"};\n",
       "\n",
       "    for (var i = 0; i < js_urls.length; i++) {\n",
       "      var url = js_urls[i];\n",
       "      var element = document.createElement('script');\n",
       "      element.onload = on_load;\n",
       "      element.onerror = on_error;\n",
       "      element.async = false;\n",
       "      element.src = url;\n",
       "      if (url in hashes) {\n",
       "        element.crossOrigin = \"anonymous\";\n",
       "        element.integrity = \"sha384-\" + hashes[url];\n",
       "      }\n",
       "      console.debug(\"Bokeh: injecting script tag for BokehJS library: \", url);\n",
       "      document.head.appendChild(element);\n",
       "    }\n",
       "  };\n",
       "\n",
       "  function inject_raw_css(css) {\n",
       "    const element = document.createElement(\"style\");\n",
       "    element.appendChild(document.createTextNode(css));\n",
       "    document.body.appendChild(element);\n",
       "  }\n",
       "\n",
       "  \n",
       "  var js_urls = [\"https://cdn.bokeh.org/bokeh/release/bokeh-2.1.1.min.js\", \"https://cdn.bokeh.org/bokeh/release/bokeh-widgets-2.1.1.min.js\", \"https://cdn.bokeh.org/bokeh/release/bokeh-tables-2.1.1.min.js\", \"https://cdn.bokeh.org/bokeh/release/bokeh-gl-2.1.1.min.js\"];\n",
       "  var css_urls = [];\n",
       "  \n",
       "\n",
       "  var inline_js = [\n",
       "    function(Bokeh) {\n",
       "      Bokeh.set_log_level(\"info\");\n",
       "    },\n",
       "    function(Bokeh) {\n",
       "    \n",
       "    \n",
       "    }\n",
       "  ];\n",
       "\n",
       "  function run_inline_js() {\n",
       "    \n",
       "    if (root.Bokeh !== undefined || force === true) {\n",
       "      \n",
       "    for (var i = 0; i < inline_js.length; i++) {\n",
       "      inline_js[i].call(root, root.Bokeh);\n",
       "    }\n",
       "    if (force === true) {\n",
       "        display_loaded();\n",
       "      }} else if (Date.now() < root._bokeh_timeout) {\n",
       "      setTimeout(run_inline_js, 100);\n",
       "    } else if (!root._bokeh_failed_load) {\n",
       "      console.log(\"Bokeh: BokehJS failed to load within specified timeout.\");\n",
       "      root._bokeh_failed_load = true;\n",
       "    } else if (force !== true) {\n",
       "      var cell = $(document.getElementById(\"1001\")).parents('.cell').data().cell;\n",
       "      cell.output_area.append_execute_result(NB_LOAD_WARNING)\n",
       "    }\n",
       "\n",
       "  }\n",
       "\n",
       "  if (root._bokeh_is_loading === 0) {\n",
       "    console.debug(\"Bokeh: BokehJS loaded, going straight to plotting\");\n",
       "    run_inline_js();\n",
       "  } else {\n",
       "    load_libs(css_urls, js_urls, function() {\n",
       "      console.debug(\"Bokeh: BokehJS plotting callback run at\", now());\n",
       "      run_inline_js();\n",
       "    });\n",
       "  }\n",
       "}(window));"
      ],
      "application/vnd.bokehjs_load.v0+json": "\n(function(root) {\n  function now() {\n    return new Date();\n  }\n\n  var force = true;\n\n  if (typeof root._bokeh_onload_callbacks === \"undefined\" || force === true) {\n    root._bokeh_onload_callbacks = [];\n    root._bokeh_is_loading = undefined;\n  }\n\n  \n\n  \n  if (typeof (root._bokeh_timeout) === \"undefined\" || force === true) {\n    root._bokeh_timeout = Date.now() + 5000;\n    root._bokeh_failed_load = false;\n  }\n\n  var NB_LOAD_WARNING = {'data': {'text/html':\n     \"<div style='background-color: #fdd'>\\n\"+\n     \"<p>\\n\"+\n     \"BokehJS does not appear to have successfully loaded. If loading BokehJS from CDN, this \\n\"+\n     \"may be due to a slow or bad network connection. Possible fixes:\\n\"+\n     \"</p>\\n\"+\n     \"<ul>\\n\"+\n     \"<li>re-rerun `output_notebook()` to attempt to load from CDN again, or</li>\\n\"+\n     \"<li>use INLINE resources instead, as so:</li>\\n\"+\n     \"</ul>\\n\"+\n     \"<code>\\n\"+\n     \"from bokeh.resources import INLINE\\n\"+\n     \"output_notebook(resources=INLINE)\\n\"+\n     \"</code>\\n\"+\n     \"</div>\"}};\n\n  function display_loaded() {\n    var el = document.getElementById(\"1001\");\n    if (el != null) {\n      el.textContent = \"BokehJS is loading...\";\n    }\n    if (root.Bokeh !== undefined) {\n      if (el != null) {\n        el.textContent = \"BokehJS \" + root.Bokeh.version + \" successfully loaded.\";\n      }\n    } else if (Date.now() < root._bokeh_timeout) {\n      setTimeout(display_loaded, 100)\n    }\n  }\n\n\n  function run_callbacks() {\n    try {\n      root._bokeh_onload_callbacks.forEach(function(callback) {\n        if (callback != null)\n          callback();\n      });\n    } finally {\n      delete root._bokeh_onload_callbacks\n    }\n    console.debug(\"Bokeh: all callbacks have finished\");\n  }\n\n  function load_libs(css_urls, js_urls, callback) {\n    if (css_urls == null) css_urls = [];\n    if (js_urls == null) js_urls = [];\n\n    root._bokeh_onload_callbacks.push(callback);\n    if (root._bokeh_is_loading > 0) {\n      console.debug(\"Bokeh: BokehJS is being loaded, scheduling callback at\", now());\n      return null;\n    }\n    if (js_urls == null || js_urls.length === 0) {\n      run_callbacks();\n      return null;\n    }\n    console.debug(\"Bokeh: BokehJS not loaded, scheduling load and callback at\", now());\n    root._bokeh_is_loading = css_urls.length + js_urls.length;\n\n    function on_load() {\n      root._bokeh_is_loading--;\n      if (root._bokeh_is_loading === 0) {\n        console.debug(\"Bokeh: all BokehJS libraries/stylesheets loaded\");\n        run_callbacks()\n      }\n    }\n\n    function on_error() {\n      console.error(\"failed to load \" + url);\n    }\n\n    for (var i = 0; i < css_urls.length; i++) {\n      var url = css_urls[i];\n      const element = document.createElement(\"link\");\n      element.onload = on_load;\n      element.onerror = on_error;\n      element.rel = \"stylesheet\";\n      element.type = \"text/css\";\n      element.href = url;\n      console.debug(\"Bokeh: injecting link tag for BokehJS stylesheet: \", url);\n      document.body.appendChild(element);\n    }\n\n    const hashes = {\"https://cdn.bokeh.org/bokeh/release/bokeh-2.1.1.min.js\": \"kLr4fYcqcSpbuI95brIH3vnnYCquzzSxHPU6XGQCIkQRGJwhg0StNbj1eegrHs12\", \"https://cdn.bokeh.org/bokeh/release/bokeh-widgets-2.1.1.min.js\": \"xIGPmVtaOm+z0BqfSOMn4lOR6ciex448GIKG4eE61LsAvmGj48XcMQZtKcE/UXZe\", \"https://cdn.bokeh.org/bokeh/release/bokeh-tables-2.1.1.min.js\": \"Dc9u1wF/0zApGIWoBbH77iWEHtdmkuYWG839Uzmv8y8yBLXebjO9ZnERsde5Ln/P\", \"https://cdn.bokeh.org/bokeh/release/bokeh-gl-2.1.1.min.js\": \"cT9JaBz7GiRXdENrJLZNSC6eMNF3nh3fa5fTF51Svp+ukxPdwcU5kGXGPBgDCa2j\"};\n\n    for (var i = 0; i < js_urls.length; i++) {\n      var url = js_urls[i];\n      var element = document.createElement('script');\n      element.onload = on_load;\n      element.onerror = on_error;\n      element.async = false;\n      element.src = url;\n      if (url in hashes) {\n        element.crossOrigin = \"anonymous\";\n        element.integrity = \"sha384-\" + hashes[url];\n      }\n      console.debug(\"Bokeh: injecting script tag for BokehJS library: \", url);\n      document.head.appendChild(element);\n    }\n  };\n\n  function inject_raw_css(css) {\n    const element = document.createElement(\"style\");\n    element.appendChild(document.createTextNode(css));\n    document.body.appendChild(element);\n  }\n\n  \n  var js_urls = [\"https://cdn.bokeh.org/bokeh/release/bokeh-2.1.1.min.js\", \"https://cdn.bokeh.org/bokeh/release/bokeh-widgets-2.1.1.min.js\", \"https://cdn.bokeh.org/bokeh/release/bokeh-tables-2.1.1.min.js\", \"https://cdn.bokeh.org/bokeh/release/bokeh-gl-2.1.1.min.js\"];\n  var css_urls = [];\n  \n\n  var inline_js = [\n    function(Bokeh) {\n      Bokeh.set_log_level(\"info\");\n    },\n    function(Bokeh) {\n    \n    \n    }\n  ];\n\n  function run_inline_js() {\n    \n    if (root.Bokeh !== undefined || force === true) {\n      \n    for (var i = 0; i < inline_js.length; i++) {\n      inline_js[i].call(root, root.Bokeh);\n    }\n    if (force === true) {\n        display_loaded();\n      }} else if (Date.now() < root._bokeh_timeout) {\n      setTimeout(run_inline_js, 100);\n    } else if (!root._bokeh_failed_load) {\n      console.log(\"Bokeh: BokehJS failed to load within specified timeout.\");\n      root._bokeh_failed_load = true;\n    } else if (force !== true) {\n      var cell = $(document.getElementById(\"1001\")).parents('.cell').data().cell;\n      cell.output_area.append_execute_result(NB_LOAD_WARNING)\n    }\n\n  }\n\n  if (root._bokeh_is_loading === 0) {\n    console.debug(\"Bokeh: BokehJS loaded, going straight to plotting\");\n    run_inline_js();\n  } else {\n    load_libs(css_urls, js_urls, function() {\n      console.debug(\"Bokeh: BokehJS plotting callback run at\", now());\n      run_inline_js();\n    });\n  }\n}(window));"
     },
     "metadata": {},
     "output_type": "display_data"
    }
   ],
   "source": [
    "from bokeh.layouts import gridplot\n",
    "from bokeh.plotting import figure, output_file, show\n",
    "bokeh.io.output_notebook() "
   ]
  },
  {
   "cell_type": "code",
   "execution_count": 18,
   "metadata": {},
   "outputs": [],
   "source": [
    "x = json_output['forecast']['time']\n",
    "x = np.array(x,dtype=np.datetime64)"
   ]
  },
  {
   "cell_type": "markdown",
   "metadata": {},
   "source": [
    "### NOTE: These interactive plots won't display on GitHub. Click this [link](https://raw.githubusercontent.com/sridge/wx-forecast-api-demo/master/temperature.html) and \"right click\"->\"save as\" and reopen the file"
   ]
  },
  {
   "cell_type": "code",
   "execution_count": 19,
   "metadata": {},
   "outputs": [
    {
     "data": {
      "text/html": [
       "\n",
       "\n",
       "\n",
       "\n",
       "\n",
       "\n",
       "  <div class=\"bk-root\" id=\"4852516b-0d6f-4ff9-98a8-7f6298234567\" data-root-id=\"1005\"></div>\n"
      ]
     },
     "metadata": {},
     "output_type": "display_data"
    },
    {
     "data": {
      "application/javascript": [
       "(function(root) {\n",
       "  function embed_document(root) {\n",
       "    \n",
       "  var docs_json = {\"70dc0431-dfa1-4980-9247-06b62094c8a6\":{\"roots\":{\"references\":[{\"attributes\":{\"below\":[{\"id\":\"1016\"}],\"center\":[{\"id\":\"1019\"},{\"id\":\"1023\"}],\"left\":[{\"id\":\"1020\"}],\"plot_height\":300,\"renderers\":[{\"id\":\"1031\"},{\"id\":\"1036\"}],\"title\":{\"id\":\"1006\"},\"toolbar\":{\"id\":\"1024\"},\"toolbar_location\":\"below\",\"x_range\":{\"id\":\"1008\"},\"x_scale\":{\"id\":\"1012\"},\"y_range\":{\"id\":\"1010\"},\"y_scale\":{\"id\":\"1014\"}},\"id\":\"1005\",\"subtype\":\"Figure\",\"type\":\"Plot\"},{\"attributes\":{\"months\":[0,4,8]},\"id\":\"1052\",\"type\":\"MonthsTicker\"},{\"attributes\":{\"active_drag\":\"auto\",\"active_inspect\":\"auto\",\"active_multi\":null,\"active_scroll\":\"auto\",\"active_tap\":\"auto\",\"tools\":[{\"id\":\"1002\"},{\"id\":\"1003\"},{\"id\":\"1004\"}]},\"id\":\"1024\",\"type\":\"Toolbar\"},{\"attributes\":{\"line_color\":\"orange\",\"line_width\":3,\"x\":{\"field\":\"x\"},\"y\":{\"field\":\"y\"}},\"id\":\"1034\",\"type\":\"Line\"},{\"attributes\":{\"callback\":null,\"formatters\":{\"@x\":\"datetime\"},\"mode\":\"vline\",\"tooltips\":[[\"Temperature\",\"$y{1.f}\\u00b0F\"],[\"Time (UTC)\",\"@x{%I %p %F}\"]]},\"id\":\"1002\",\"type\":\"HoverTool\"},{\"attributes\":{\"data\":{\"x\":{\"__ndarray__\":\"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\",\"dtype\":\"float64\",\"order\":\"little\",\"shape\":[361]},\"y\":{\"__ndarray__\":\"CtejcD2KUUDXo3A9ChdRQDQzMzMzU1BAUrgeheuRT0DNzMzMzExPQJDC9ShcT05AhutRuB7FTUDXo3A9CpdNQFK4HoXrUU1AH4XrUbjeTEDC9Shcj4JMQD4K16NwPUxA4XoUrkfhS0B7FK5H4TpNQHsUrkfhek9AexSuR+G6UEAfhetRuH5RQNejcD0KN1JAkML1KFzvUkC4HoXrUdhSQOF6FK5HwVJANDMzMzOTUkBwPQrXo3BSQOxRuB6FK1JASOF6FK5HUEB7FK5H4bpQQHA9CtejMFBAAAAAAADAT0B7FK5H4XpPQHE9Ctej8E5AZmZmZmZmTkAK16NwPQpOQK5H4XoUrk1AUrgehetRTUCkcD0K1yNNQEjhehSux0xAwvUoXI+CTEA0MzMzM/NNQJqZmZmZGVBAAAAAAAAAUUCkcD0K18NRQHA9CtejcFJAPgrXo3AdU0AUrkfhejRTQOxRuB6FS1NA7FG4HoVLU0AAAAAAAEBTQAAAAAAAQFNAKVyPwvUoU0DsUbgehStSQAAAAAAAAFFASOF6FK5HUEDNzMzMzExPQArXo3A9Ck5AcD0K16OwTEAUrkfhelRMQLgehetR+EtAhutRuB6FS0BSuB6F6xFLQPYoXI/CtUpAcD0K16NwSkC4HoXrUfhLQArXo3A9Ck5AKFyPwvWoT0CkcD0K16NQQFyPwvUoXFFAFK5H4XoUUkDsUbgehStSQOxRuB6FK1JA16NwPQo3UkAAAAAAACBSQFyPwvUoXFFAexSuR+G6UEDC9ShcjwJQQD4K16NwfU5A16NwPQqXTUBSuB6F61FNQD4K16NwPUxAXI/C9SicS0CuR+F6FG5LQNejcD0KV0tAAAAAAABAS0B7FK5H4fpKQM3MzMzMzEpAH4XrUbieSkA+CtejcD1MQBSuR+F6lE5ASOF6FK5HUECamZmZmTlRQD4K16Nw/VFA9ihcj8K1UkD2KFyPwrVSQPYoXI/CtVJAuB6F61G4UUCuR+F6FC5RQJqZmZmZOVFAZmZmZmbGUEAAAAAAAABRQOF6FK5HgVBArkfhehQOUEAfhetRuB5PQOF6FK5HIU5AexSuR+E6TUD2KFyPwvVMQHA9CtejsExA7FG4HoVrTEBmZmZmZiZMQOF6FK5H4UtAXI/C9SicS0ApXI/C9WhNQPYoXI/CNU9A9ihcj8J1UEBcj8L1KFxRQML1KFyPQlJAKVyPwvUoU0B7FK5H4fpSQM3MzMzMzFJAH4XrUbieUkBwPQrXo3BSQML1KFyPQlJAFK5H4XoUUkAK16NwPYpRQAAAAAAAAFFA4XoUrkeBUECuR+F6FO5PQHE9Ctej8E5AXI/C9SjcTUAAAAAAAIBNQKRwPQrXI01AH4XrUbjeTEDC9Shcj4JMQGZmZmZmJkxACtejcD3KS0DXo3A9CpdNQKRwPQrXY09AzczMzMyMUEA0MzMzM3NRQJqZmZmZWVJAAAAAAABAU0ApXI/C9ShTQFK4HoXrEVNAZmZmZmYGU0CQwvUoXO9SQLgehetR2FJAzczMzMzMUkDC9Shcj0JSQLgehetRuFFArkfhehQuUUCkcD0K16NQQJqZmZmZGVBA9ihcj8I1T0CamZmZmdlOQGZmZmZmZk5ACtejcD0KTkCuR+F6FK5NQFK4HoXrUU1A9ihcj8L1TEDC9Shcj8JOQEjhehSuR1BAwvUoXI8iUUApXI/C9QhSQJDC9Shc71JA9ihcj8LVU0D2KFyPwtVTQOF6FK5H4VNAzczMzMzsU0DNzMzMzOxTQLgehetR+FNApHA9CtcDVEDXo3A9CldTQPYoXI/CtVJAFK5H4XoUUkA0MzMzM3NRQFK4HoXr0VBAcD0K16MwUECuR+F6FO5PQHsUrkfhek9ASOF6FK4HT0AUrkfhepROQOF6FK5HIU5ArkfhehSuTUB7FK5H4XpPQLgehetRmFBAH4XrUbh+UUCamZmZmVlSQAAAAAAAQFNAZmZmZmYmVEBmZmZmZiZUQGZmZmZmJlRAZmZmZmYmVEBSuB6F6zFUQFK4HoXrMVRAUrgehesxVECG61G4HoVTQM3MzMzMzFJAAAAAAAAgUkBI4XoUrmdRQJDC9Shcr1BAwvUoXI8CUEBSuB6F65FPQB+F61G4Hk9A7FG4HoWrTkC4HoXrUThOQFyPwvUo3E1AKVyPwvVoTUD2KFyPwjVPQOF6FK5HgVBASOF6FK5nUUCuR+F6FE5SQBSuR+F6NFNAexSuR+EaVEB7FK5H4RpUQHsUrkfhGlRAexSuR+EaVEB7FK5H4RpUQHsUrkfhGlRAexSuR+EaVECamZmZmXlTQM3MzMzMzFJAAAAAAAAgUkA0MzMzM3NRQFK4HoXr0VBAhutRuB4lUEAAAAAAAMBPQM3MzMzMTE9AwvUoXI/CTkCQwvUoXE9OQIbrUbgexU1AUrgehetRTUAfhetRuB5PQOF6FK5HgVBASOF6FK5nUUCuR+F6FE5SQAAAAAAAQFNAZmZmZmYmVEB7FK5H4RpUQJDC9ShcD1RApHA9CtcDVEDNzMzMzOxTQOF6FK5H4VNA9ihcj8LVU0AUrkfhejRTQDQzMzMzk1JAUrgehevxUUBwPQrXo1BRQJDC9Shcr1BArkfhehQOUEBSuB6F65FPQB+F61G4Hk9A7FG4HoWrTkC4HoXrUThOQIbrUbgexU1AexSuR+E6TUBI4XoUrgdPQArXo3A9alBAcD0K16NQUUDsUbgehStSQFK4HoXrEVNAuB6F61H4U0D2KFyPwtVTQB+F61G4vlNAXI/C9SicU0CamZmZmXlTQML1KFyPYlNAAAAAAABAU0AK16NwPapSQBSuR+F6FFJAH4XrUbh+UUA+CtejcN1QQEjhehSuR1BApHA9CtdjT0BI4XoUrgdPQBSuR+F6lE5A4XoUrkchTkCG61G4HsVNQFK4HoXrUU1AH4XrUbjeTEAUrkfhepROQIbrUbgeJVBAAAAAAAAAUUCQwvUoXM9RQArXo3A9qlJAhutRuB6FU0DC9Shcj2JTQAAAAAAAQFNAPgrXo3AdU0B7FK5H4fpSQKRwPQrX41JA4XoUrkfBUkDsUbgehStSQPYoXI/ClVFAAAAAAAAAUUAK16NwPWpQQChcj8L1qE9APgrXo3B9TkDhehSuRyFOQIbrUbgexU1AKVyPwvVoTUDNzMzMzAxNQHA9CtejsExAFK5H4XpUTEBcj8L1KNxNQKRwPQrXY09ACtejcD1qUECuR+F6FC5RQGZmZmZm5lFACtejcD2qUkBcj8L1KHxSQJqZmZmZWVJA16NwPQo3UkAUrkfhehRSQFK4HoXr8VFApHA9CtfDUUBwPQrXo1BRQFK4HoXr0VBANDMzMzNTUEAAAAAAAMBPQML1KFyPwk5AhutRuB7FTUAAAAAAAIBNQKRwPQrXI01AH4XrUbjeTEDC9Shcj4JMQD4K16NwPUxAuB6F61H4S0ApXI/C9WhNQHE9Ctej8E5AXI/C9Sg8UEAAAAAAAABRQKRwPQrXw1FASOF6FK6HUkCG61G4HmVSQK5H4XoUTlJA16NwPQo3UkAUrkfhehRSQD4K16Nw/VFAexSuR+HaUUBI4XoUrmdRQClcj8L16FBACtejcD1qUEDYo3A9CtdPQJqZmZmZ2U5ANDMzMzPzTUAAAAAAAIBNQKRwPQrXI01ASOF6FK7HTEDsUbgehWtMQJDC9ShcD0xANDMzMzOzS0BSuB6F61FNQJqZmZmZ2U5AcD0K16MwUEAAAAAAAABRQKRwPQrXw1FASOF6FK6HUkBcj8L1KHxSQHA9CtejcFJAmpmZmZlZUkCuR+F6FE5SQML1KFyPQlJA7FG4HoUrUkA=\",\"dtype\":\"float64\",\"order\":\"little\",\"shape\":[361]}},\"selected\":{\"id\":\"1058\"},\"selection_policy\":{\"id\":\"1057\"}},\"id\":\"1033\",\"type\":\"ColumnDataSource\"},{\"attributes\":{\"axis\":{\"id\":\"1016\"},\"grid_line_color\":null,\"ticker\":null},\"id\":\"1019\",\"type\":\"Grid\"},{\"attributes\":{\"end\":1596409200000.0,\"start\":1595980800000.0},\"id\":\"1008\",\"type\":\"Range1d\"},{\"attributes\":{},\"id\":\"1056\",\"type\":\"Selection\"},{\"attributes\":{\"data_source\":{\"id\":\"1028\"},\"glyph\":{\"id\":\"1029\"},\"hover_glyph\":null,\"muted_glyph\":null,\"nonselection_glyph\":{\"id\":\"1030\"},\"selection_glyph\":null,\"view\":{\"id\":\"1032\"}},\"id\":\"1031\",\"type\":\"GlyphRenderer\"},{\"attributes\":{\"data_source\":{\"id\":\"1033\"},\"glyph\":{\"id\":\"1034\"},\"hover_glyph\":null,\"muted_glyph\":null,\"nonselection_glyph\":{\"id\":\"1035\"},\"selection_glyph\":null,\"view\":{\"id\":\"1037\"}},\"id\":\"1036\",\"type\":\"GlyphRenderer\"},{\"attributes\":{\"mantissas\":[1,2,5],\"max_interval\":500.0,\"num_minor_ticks\":0},\"id\":\"1043\",\"type\":\"AdaptiveTicker\"},{\"attributes\":{\"text\":\"Temperature (\\u00b0F)\"},\"id\":\"1006\",\"type\":\"Title\"},{\"attributes\":{\"line_alpha\":0.1,\"line_color\":\"orange\",\"line_width\":3,\"x\":{\"field\":\"x\"},\"y\":{\"field\":\"y\"}},\"id\":\"1035\",\"type\":\"Line\"},{\"attributes\":{},\"id\":\"1003\",\"type\":\"PanTool\"},{\"attributes\":{},\"id\":\"1039\",\"type\":\"DatetimeTickFormatter\"},{\"attributes\":{},\"id\":\"1055\",\"type\":\"UnionRenderers\"},{\"attributes\":{},\"id\":\"1054\",\"type\":\"YearsTicker\"},{\"attributes\":{\"source\":{\"id\":\"1033\"}},\"id\":\"1037\",\"type\":\"CDSView\"},{\"attributes\":{},\"id\":\"1010\",\"type\":\"DataRange1d\"},{\"attributes\":{\"months\":[0,6]},\"id\":\"1053\",\"type\":\"MonthsTicker\"},{\"attributes\":{\"days\":[1,15]},\"id\":\"1049\",\"type\":\"DaysTicker\"},{\"attributes\":{\"fill_alpha\":0.1,\"fill_color\":\"#D1D1D1\",\"x\":{\"field\":\"x\"},\"y1\":{\"field\":\"y1\"},\"y2\":{\"field\":\"y2\"}},\"id\":\"1030\",\"type\":\"VArea\"},{\"attributes\":{},\"id\":\"1021\",\"type\":\"BasicTicker\"},{\"attributes\":{\"data\":{\"x\":{\"__ndarray__\":\"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\",\"dtype\":\"float64\",\"order\":\"little\",\"shape\":[361]},\"y1\":{\"__ndarray__\":\"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\",\"dtype\":\"float64\",\"order\":\"little\",\"shape\":[361]},\"y2\":{\"__ndarray__\":\"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\",\"dtype\":\"float64\",\"order\":\"little\",\"shape\":[361]}},\"selected\":{\"id\":\"1056\"},\"selection_policy\":{\"id\":\"1055\"}},\"id\":\"1028\",\"type\":\"ColumnDataSource\"},{\"attributes\":{\"base\":24,\"mantissas\":[1,2,4,6,8,12],\"max_interval\":43200000.0,\"min_interval\":3600000.0,\"num_minor_ticks\":0},\"id\":\"1045\",\"type\":\"AdaptiveTicker\"},{\"attributes\":{\"days\":[1,4,7,10,13,16,19,22,25,28]},\"id\":\"1047\",\"type\":\"DaysTicker\"},{\"attributes\":{},\"id\":\"1058\",\"type\":\"Selection\"},{\"attributes\":{},\"id\":\"1012\",\"type\":\"LinearScale\"},{\"attributes\":{},\"id\":\"1004\",\"type\":\"SaveTool\"},{\"attributes\":{\"source\":{\"id\":\"1028\"}},\"id\":\"1032\",\"type\":\"CDSView\"},{\"attributes\":{\"num_minor_ticks\":5,\"tickers\":[{\"id\":\"1043\"},{\"id\":\"1044\"},{\"id\":\"1045\"},{\"id\":\"1046\"},{\"id\":\"1047\"},{\"id\":\"1048\"},{\"id\":\"1049\"},{\"id\":\"1050\"},{\"id\":\"1051\"},{\"id\":\"1052\"},{\"id\":\"1053\"},{\"id\":\"1054\"}]},\"id\":\"1017\",\"type\":\"DatetimeTicker\"},{\"attributes\":{\"months\":[0,2,4,6,8,10]},\"id\":\"1051\",\"type\":\"MonthsTicker\"},{\"attributes\":{},\"id\":\"1014\",\"type\":\"LinearScale\"},{\"attributes\":{\"formatter\":{\"id\":\"1039\"},\"ticker\":{\"id\":\"1017\"}},\"id\":\"1016\",\"type\":\"DatetimeAxis\"},{\"attributes\":{\"axis\":{\"id\":\"1020\"},\"dimension\":1,\"grid_line_width\":0.5,\"ticker\":null},\"id\":\"1023\",\"type\":\"Grid\"},{\"attributes\":{\"fill_alpha\":0.5,\"fill_color\":\"#D1D1D1\",\"x\":{\"field\":\"x\"},\"y1\":{\"field\":\"y1\"},\"y2\":{\"field\":\"y2\"}},\"id\":\"1029\",\"type\":\"VArea\"},{\"attributes\":{\"days\":[1,8,15,22]},\"id\":\"1048\",\"type\":\"DaysTicker\"},{\"attributes\":{\"formatter\":{\"id\":\"1041\"},\"ticker\":{\"id\":\"1021\"}},\"id\":\"1020\",\"type\":\"LinearAxis\"},{\"attributes\":{},\"id\":\"1041\",\"type\":\"BasicTickFormatter\"},{\"attributes\":{\"months\":[0,1,2,3,4,5,6,7,8,9,10,11]},\"id\":\"1050\",\"type\":\"MonthsTicker\"},{\"attributes\":{},\"id\":\"1057\",\"type\":\"UnionRenderers\"},{\"attributes\":{\"base\":60,\"mantissas\":[1,2,5,10,15,20,30],\"max_interval\":1800000.0,\"min_interval\":1000.0,\"num_minor_ticks\":0},\"id\":\"1044\",\"type\":\"AdaptiveTicker\"},{\"attributes\":{\"days\":[1,2,3,4,5,6,7,8,9,10,11,12,13,14,15,16,17,18,19,20,21,22,23,24,25,26,27,28,29,30,31]},\"id\":\"1046\",\"type\":\"DaysTicker\"}],\"root_ids\":[\"1005\"]},\"title\":\"Bokeh Application\",\"version\":\"2.1.1\"}};\n",
       "  var render_items = [{\"docid\":\"70dc0431-dfa1-4980-9247-06b62094c8a6\",\"root_ids\":[\"1005\"],\"roots\":{\"1005\":\"4852516b-0d6f-4ff9-98a8-7f6298234567\"}}];\n",
       "  root.Bokeh.embed.embed_items_notebook(docs_json, render_items);\n",
       "\n",
       "  }\n",
       "  if (root.Bokeh !== undefined) {\n",
       "    embed_document(root);\n",
       "  } else {\n",
       "    var attempts = 0;\n",
       "    var timer = setInterval(function(root) {\n",
       "      if (root.Bokeh !== undefined) {\n",
       "        clearInterval(timer);\n",
       "        embed_document(root);\n",
       "      } else {\n",
       "        attempts++;\n",
       "        if (attempts > 100) {\n",
       "          clearInterval(timer);\n",
       "          console.log(\"Bokeh: ERROR: Unable to run BokehJS code because BokehJS library is missing\");\n",
       "        }\n",
       "      }\n",
       "    }, 10, root)\n",
       "  }\n",
       "})(window);"
      ],
      "application/vnd.bokehjs_exec.v0+json": ""
     },
     "metadata": {
      "application/vnd.bokehjs_exec.v0+json": {
       "id": "1005"
      }
     },
     "output_type": "display_data"
    }
   ],
   "source": [
    "utils.plot_forecast(x,json_output,'Temperature','°F','orange')"
   ]
  },
  {
   "cell_type": "code",
   "execution_count": null,
   "metadata": {},
   "outputs": [],
   "source": []
  }
 ],
 "metadata": {
  "kernelspec": {
   "display_name": "Python 3",
   "language": "python",
   "name": "python3"
  },
  "language_info": {
   "codemirror_mode": {
    "name": "ipython",
    "version": 3
   },
   "file_extension": ".py",
   "mimetype": "text/x-python",
   "name": "python",
   "nbconvert_exporter": "python",
   "pygments_lexer": "ipython3",
   "version": "3.7.6"
  }
 },
 "nbformat": 4,
 "nbformat_minor": 4
}
