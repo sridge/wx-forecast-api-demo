{
 "cells": [
  {
   "cell_type": "markdown",
   "metadata": {},
   "source": [
    "# Weather Forecast Demo\n",
    "\n",
    "This is all part of project I'm working on with [William Vuong](https://github.com/wnvuong). I've written the API that returns a hyperlocal weather forecast and William does all of the iOS app development and manages the Amazon EC2 instance. "
   ]
  },
  {
   "cell_type": "code",
   "execution_count": 1,
   "metadata": {},
   "outputs": [],
   "source": [
    "import datetime\n",
    "import bokeh\n",
    "\n",
    "import numpy as np\n",
    "import pandas as pd\n",
    "import xarray as xr\n",
    "from geopy.geocoders import Nominatim\n",
    "\n",
    "import utils\n",
    "import forecast"
   ]
  },
  {
   "cell_type": "code",
   "execution_count": 2,
   "metadata": {},
   "outputs": [],
   "source": [
    "import matplotlib.pyplot as plt"
   ]
  },
  {
   "cell_type": "code",
   "execution_count": 3,
   "metadata": {},
   "outputs": [],
   "source": [
    "path = '../meteori-services/forecast-service/forecast/'"
   ]
  },
  {
   "cell_type": "markdown",
   "metadata": {},
   "source": [
    "# We're going to go through this function\n",
    "\n",
    "This is what is being done on the server when we return a forecast. Flask is used to return a JSON file. Datasets are stored on our own server. For testing purposes I created the ```get_forecast_nomads()``` function which is slightly different than the ```get_forecast()``` function we use on our server. Here, I load  the datasets from the public NOMADS server, which makes this method much slower than what would happen on our own server, but allows for me to rapidly test things locally."
   ]
  },
  {
   "cell_type": "code",
   "execution_count": 4,
   "metadata": {},
   "outputs": [],
   "source": [
    "def get_forecast_nomads(lat, lon, nn_model, date=datetime.datetime.today()):\n",
    "    \"\"\"Calculates the Meteori Ensemble Forecast using the NOMADS server\n",
    "\n",
    "    The \"best guess\" is the mean of the Meteori neural network \n",
    "    downscaled GEFS mean, the NOAA downscaled GEFS mean, and 0.25 \n",
    "    degree GFS. The spread is the max and min across both the ensembles \n",
    "    (NOAA and Metori) and 0.25 degree GFS\n",
    "\n",
    "    Args:\n",
    "        lat: latitude (-90 - 90)\n",
    "        lon: longitude (0-360)\n",
    "        date: default value is current time, but in theory can pass any \n",
    "        date (this data may not be on the server however)\n",
    "\n",
    "    Returns:\n",
    "        xarray Dataset containing the best guess ('tmp2m') and forecast\n",
    "        spread ('tmp2m_max' and 'tmp2m_min')\n",
    "\n",
    "    \"\"\"\n",
    "\n",
    "    year = date.year\n",
    "    month = f'{date.month:02d}'\n",
    "    day = f'{date.day:02d}'\n",
    "    forecast_start_time = '00'\n",
    "\n",
    "    # currently reading directly from the NOMADs server\n",
    "    # Probably should read paths from a json file\n",
    "\n",
    "    base_url = 'https://nomads.ncep.noaa.gov:9090/dods/'\n",
    "\n",
    "    dset_paths = {'gefs': f'{base_url}gens/gens{year}{month}{day}/gep_all_{forecast_start_time}z',\n",
    "                  'gefs_0p5': f'{base_url}gens_bc/gens{year}{month}{day}/gep_all_{forecast_start_time}z',\n",
    "                  'gfs_0p25': f'{base_url}gfs_0p25_1hr/gfs{year}{month}{day}/gfs_0p25_1hr_{forecast_start_time}z', }\n",
    "\n",
    "    gefs, gfs, gefs_0p5 = load_datasets_from_nomads(dset_paths)\n",
    "\n",
    "    print('Load Datasets (1/3) \\n')\n",
    "\n",
    "    print('start loading datasets')\n",
    "\n",
    "    gefs = sample_point(lat, lon, gefs, res=1)\n",
    "    gefs['lat'] = lat\n",
    "    gefs['lon'] = lon\n",
    "    gefs = gefs.load()\n",
    "\n",
    "    gfs = sample_point(lat, lon, gfs, res=0.25)\n",
    "    gfs['lat'] = lat\n",
    "    gfs['lon'] = lon\n",
    "    gfs = gfs.load()\n",
    "\n",
    "    gefs_0p5 = sample_point(lat, lon, gefs_0p5, res=0.5)\n",
    "    gefs_0p5['lat'] = lat\n",
    "    gefs_0p5['lon'] = lon\n",
    "    gefs_0p5 = gefs_0p5.load()\n",
    "    print('finished loading datasets')\n",
    "\n",
    "    print('Run Neural Network (2/3) \\n')\n",
    "    gefs = run_nn(gefs=gefs,nn_model=nn_model)\n",
    "\n",
    "    print('Calculating Forecast (3/3) \\n')\n",
    "    # temporary fix (L518-L521)\n",
    "    # wnd10m and app_tmp2m should be calculated before and read from server\n",
    "    gefs_0p5['wnd10m'] = wind_speed(gefs_0p5['vgrd10m'], gefs_0p5['ugrd10m'])\n",
    "    gfs['wnd10m'] = wind_speed(gfs['vgrd10m'], gfs['ugrd10m'])\n",
    "    gefs_0p5['app_tmp2m'] = calculate_app_temp(\n",
    "        gefs_0p5['wnd10m'], gefs_0p5['tmp2m'], gefs_0p5['dpt2m'])\n",
    "    gfs['app_tmp2m'] = calculate_app_temp(\n",
    "        gfs['wnd10m'], gfs['tmp2m'], gfs['dpt2m'])    \n",
    "\n",
    "    ds_out = calculate_forecast_tmp2m(gefs, gefs_0p5, gfs)\n",
    "\n",
    "    ds_out = extract_forecast_ovar('wnd10m', ds_out, gfs, gefs_0p5)\n",
    "    ds_out = extract_forecast_ovar('app_tmp2m', ds_out, gfs, gefs_0p5)\n",
    "    ds_out = extract_forecast_ovar('dpt2m', ds_out, gfs, gefs_0p5)\n",
    "    ds_out['dpt2m'] = ds_out['dpt2m']-273.15\n",
    "    ds_out['dpt2m_max'] = ds_out['dpt2m_max']-273.15\n",
    "    ds_out['dpt2m_min'] = ds_out['dpt2m_min']-273.15\n",
    "\n",
    "    ds_out = np.round(ds_out,1)\n",
    "\n",
    "    ds_out = calculate_precip_prob(ds_out, gefs)\n",
    "\n",
    "    for ptype in ['pcticep','pctsnow','pctfrzr','pctrain']:\n",
    "        ds_out[ptype] = np.round(ds_out[ptype],2)\n",
    "\n",
    "    ds_out['lat'] = lat\n",
    "    ds_out['lon'] = lon\n",
    "\n",
    "    json_output = to_json(ds_out,gfs)\n",
    "\n",
    "    return json_output"
   ]
  },
  {
   "cell_type": "markdown",
   "metadata": {},
   "source": [
    "# Give a location, return lat/lon"
   ]
  },
  {
   "cell_type": "code",
   "execution_count": 5,
   "metadata": {},
   "outputs": [
    {
     "data": {
      "text/plain": [
       "'Taos Ski Valley, Taos County, New Mexico, 87525, United States of America'"
      ]
     },
     "execution_count": 5,
     "metadata": {},
     "output_type": "execute_result"
    }
   ],
   "source": [
    "geolocator = Nominatim(user_agent=\"meteori\")\n",
    "location = geolocator.geocode('Taos Ski Valley, NM')\n",
    "location.address"
   ]
  },
  {
   "cell_type": "code",
   "execution_count": 6,
   "metadata": {},
   "outputs": [],
   "source": [
    "lat, lon = location.latitude, location.longitude+360\n",
    "date = datetime.datetime.today()"
   ]
  },
  {
   "cell_type": "code",
   "execution_count": 7,
   "metadata": {},
   "outputs": [],
   "source": [
    "year = date.year\n",
    "month = f'{date.month:02d}'\n",
    "day = f'{date.day:02d}'\n",
    "forecast_start_time = '00'"
   ]
  },
  {
   "cell_type": "markdown",
   "metadata": {},
   "source": [
    "# Pull remote datasets from OpenDAP server"
   ]
  },
  {
   "cell_type": "code",
   "execution_count": 8,
   "metadata": {},
   "outputs": [],
   "source": [
    "base_url = 'https://nomads.ncep.noaa.gov:9090/dods/'\n",
    "\n",
    "dset_paths = {'gefs': f'{base_url}gens/gens{year}{month}{day}/gep_all_{forecast_start_time}z',\n",
    "              'gefs_0p5': f'{base_url}gens_bc/gens{year}{month}{day}/gep_all_{forecast_start_time}z',\n",
    "              'gfs_0p25': f'{base_url}gfs_0p25_1hr/gfs{year}{month}{day}/gfs_0p25_1hr_{forecast_start_time}z', }\n",
    "\n",
    "gefs, gfs, gefs_0p5 = forecast.load_datasets_from_nomads(dset_paths)"
   ]
  },
  {
   "cell_type": "markdown",
   "metadata": {},
   "source": [
    "# Subsample datasets for just our location"
   ]
  },
  {
   "cell_type": "code",
   "execution_count": 9,
   "metadata": {},
   "outputs": [],
   "source": [
    "gefs = forecast.sample_point(lat, lon, gefs, res=1)\n",
    "gefs['lat'] = lat\n",
    "gefs['lon'] = lon\n",
    "gefs = gefs.load()\n",
    "\n",
    "gfs = forecast.sample_point(lat, lon, gfs, res=0.25)\n",
    "gfs['lat'] = lat\n",
    "gfs['lon'] = lon\n",
    "gfs = gfs.load()\n",
    "\n",
    "gefs_0p5 = forecast.sample_point(lat, lon, gefs_0p5, res=0.5)\n",
    "gefs_0p5['lat'] = lat\n",
    "gefs_0p5['lon'] = lon\n",
    "gefs_0p5 = gefs_0p5.load()"
   ]
  },
  {
   "cell_type": "code",
   "execution_count": 10,
   "metadata": {},
   "outputs": [],
   "source": [
    "gfs.to_netcdf(f'{path}gfs.nc')\n",
    "gefs.to_netcdf(f'{path}gefs.nc')\n",
    "gefs_0p5.to_netcdf(f'{path}gefs_0p5.nc')"
   ]
  },
  {
   "cell_type": "code",
   "execution_count": 11,
   "metadata": {},
   "outputs": [],
   "source": [
    "gfs = xr.open_dataset(f'{path}gfs.nc')\n",
    "gefs = xr.open_dataset(f'{path}gefs.nc')\n",
    "gefs_0p5 = xr.open_dataset(f'{path}gefs_0p5.nc')"
   ]
  },
  {
   "cell_type": "markdown",
   "metadata": {},
   "source": [
    "# Bias correct the GEFS with the Neural Network"
   ]
  },
  {
   "cell_type": "code",
   "execution_count": 12,
   "metadata": {},
   "outputs": [],
   "source": [
    "nn_model = forecast.load_nn(path_to_nn_model=path)"
   ]
  },
  {
   "cell_type": "code",
   "execution_count": 13,
   "metadata": {},
   "outputs": [],
   "source": [
    "gefs = forecast.run_nn(path_to_nn_model=path,gefs=gefs,nn_model=nn_model)"
   ]
  },
  {
   "cell_type": "markdown",
   "metadata": {},
   "source": [
    "# Calculate a bunch of forecast parameters"
   ]
  },
  {
   "cell_type": "code",
   "execution_count": 14,
   "metadata": {},
   "outputs": [],
   "source": [
    "gefs_0p5['wnd10m'] = forecast.wind_speed(gefs_0p5['vgrd10m'], gefs_0p5['ugrd10m'])\n",
    "gfs['wnd10m'] = forecast.wind_speed(gfs['vgrd10m'], gfs['ugrd10m'])\n",
    "gefs_0p5['app_tmp2m'] = forecast.calculate_app_temp(\n",
    "    gefs_0p5['wnd10m'], gefs_0p5['tmp2m'], gefs_0p5['dpt2m'])\n",
    "gfs['app_tmp2m'] = forecast.calculate_app_temp(\n",
    "    gfs['wnd10m'], gfs['tmp2m'], gfs['dpt2m'])    \n",
    "\n",
    "ds_out = forecast.calculate_forecast_tmp2m(gefs, gefs_0p5, gfs)\n",
    "\n",
    "ds_out = forecast.extract_forecast_ovar('wnd10m', ds_out, gfs, gefs_0p5)\n",
    "ds_out = forecast.extract_forecast_ovar('app_tmp2m', ds_out, gfs, gefs_0p5)\n",
    "ds_out = forecast.extract_forecast_ovar('dpt2m', ds_out, gfs, gefs_0p5)\n",
    "ds_out['dpt2m'] = ds_out['dpt2m']-273.15\n",
    "ds_out['dpt2m_max'] = ds_out['dpt2m_max']-273.15\n",
    "ds_out['dpt2m_min'] = ds_out['dpt2m_min']-273.15\n",
    "\n",
    "ds_out = np.round(ds_out,1)\n",
    "\n",
    "ds_out = forecast.calculate_precip_prob(ds_out, gefs)\n",
    "\n",
    "for ptype in ['pcticep','pctsnow','pctfrzr','pctrain']:\n",
    "    ds_out[ptype] = np.round(ds_out[ptype],2)"
   ]
  },
  {
   "cell_type": "markdown",
   "metadata": {},
   "source": [
    "# Generate dictionary for JSON file"
   ]
  },
  {
   "cell_type": "code",
   "execution_count": 15,
   "metadata": {},
   "outputs": [],
   "source": [
    "ds_out['lat'] = lat\n",
    "ds_out['lon'] = lon\n",
    "\n",
    "json_output = forecast.to_json(ds_out,gfs)"
   ]
  },
  {
   "cell_type": "code",
   "execution_count": 16,
   "metadata": {},
   "outputs": [
    {
     "data": {
      "text/plain": [
       "dict_keys(['time', 'temperature', 'dew_point', 'apparent_temp', 'wind_speed', 'precip_prob', 'daily_temperature', 'hourly_description', 'day_description', 'night_description'])"
      ]
     },
     "execution_count": 16,
     "metadata": {},
     "output_type": "execute_result"
    }
   ],
   "source": [
    "json_output['forecast'].keys()"
   ]
  },
  {
   "cell_type": "markdown",
   "metadata": {},
   "source": [
    "# Visualize"
   ]
  },
  {
   "cell_type": "code",
   "execution_count": 17,
   "metadata": {},
   "outputs": [
    {
     "data": {
      "text/html": [
       "\n",
       "    <div class=\"bk-root\">\n",
       "        <a href=\"https://bokeh.org\" target=\"_blank\" class=\"bk-logo bk-logo-small bk-logo-notebook\"></a>\n",
       "        <span id=\"1001\">Loading BokehJS ...</span>\n",
       "    </div>"
      ]
     },
     "metadata": {},
     "output_type": "display_data"
    },
    {
     "data": {
      "application/javascript": [
       "\n",
       "(function(root) {\n",
       "  function now() {\n",
       "    return new Date();\n",
       "  }\n",
       "\n",
       "  var force = true;\n",
       "\n",
       "  if (typeof root._bokeh_onload_callbacks === \"undefined\" || force === true) {\n",
       "    root._bokeh_onload_callbacks = [];\n",
       "    root._bokeh_is_loading = undefined;\n",
       "  }\n",
       "\n",
       "  var JS_MIME_TYPE = 'application/javascript';\n",
       "  var HTML_MIME_TYPE = 'text/html';\n",
       "  var EXEC_MIME_TYPE = 'application/vnd.bokehjs_exec.v0+json';\n",
       "  var CLASS_NAME = 'output_bokeh rendered_html';\n",
       "\n",
       "  /**\n",
       "   * Render data to the DOM node\n",
       "   */\n",
       "  function render(props, node) {\n",
       "    var script = document.createElement(\"script\");\n",
       "    node.appendChild(script);\n",
       "  }\n",
       "\n",
       "  /**\n",
       "   * Handle when an output is cleared or removed\n",
       "   */\n",
       "  function handleClearOutput(event, handle) {\n",
       "    var cell = handle.cell;\n",
       "\n",
       "    var id = cell.output_area._bokeh_element_id;\n",
       "    var server_id = cell.output_area._bokeh_server_id;\n",
       "    // Clean up Bokeh references\n",
       "    if (id != null && id in Bokeh.index) {\n",
       "      Bokeh.index[id].model.document.clear();\n",
       "      delete Bokeh.index[id];\n",
       "    }\n",
       "\n",
       "    if (server_id !== undefined) {\n",
       "      // Clean up Bokeh references\n",
       "      var cmd = \"from bokeh.io.state import curstate; print(curstate().uuid_to_server['\" + server_id + \"'].get_sessions()[0].document.roots[0]._id)\";\n",
       "      cell.notebook.kernel.execute(cmd, {\n",
       "        iopub: {\n",
       "          output: function(msg) {\n",
       "            var id = msg.content.text.trim();\n",
       "            if (id in Bokeh.index) {\n",
       "              Bokeh.index[id].model.document.clear();\n",
       "              delete Bokeh.index[id];\n",
       "            }\n",
       "          }\n",
       "        }\n",
       "      });\n",
       "      // Destroy server and session\n",
       "      var cmd = \"import bokeh.io.notebook as ion; ion.destroy_server('\" + server_id + \"')\";\n",
       "      cell.notebook.kernel.execute(cmd);\n",
       "    }\n",
       "  }\n",
       "\n",
       "  /**\n",
       "   * Handle when a new output is added\n",
       "   */\n",
       "  function handleAddOutput(event, handle) {\n",
       "    var output_area = handle.output_area;\n",
       "    var output = handle.output;\n",
       "\n",
       "    // limit handleAddOutput to display_data with EXEC_MIME_TYPE content only\n",
       "    if ((output.output_type != \"display_data\") || (!output.data.hasOwnProperty(EXEC_MIME_TYPE))) {\n",
       "      return\n",
       "    }\n",
       "\n",
       "    var toinsert = output_area.element.find(\".\" + CLASS_NAME.split(' ')[0]);\n",
       "\n",
       "    if (output.metadata[EXEC_MIME_TYPE][\"id\"] !== undefined) {\n",
       "      toinsert[toinsert.length - 1].firstChild.textContent = output.data[JS_MIME_TYPE];\n",
       "      // store reference to embed id on output_area\n",
       "      output_area._bokeh_element_id = output.metadata[EXEC_MIME_TYPE][\"id\"];\n",
       "    }\n",
       "    if (output.metadata[EXEC_MIME_TYPE][\"server_id\"] !== undefined) {\n",
       "      var bk_div = document.createElement(\"div\");\n",
       "      bk_div.innerHTML = output.data[HTML_MIME_TYPE];\n",
       "      var script_attrs = bk_div.children[0].attributes;\n",
       "      for (var i = 0; i < script_attrs.length; i++) {\n",
       "        toinsert[toinsert.length - 1].firstChild.setAttribute(script_attrs[i].name, script_attrs[i].value);\n",
       "        toinsert[toinsert.length - 1].firstChild.textContent = bk_div.children[0].textContent\n",
       "      }\n",
       "      // store reference to server id on output_area\n",
       "      output_area._bokeh_server_id = output.metadata[EXEC_MIME_TYPE][\"server_id\"];\n",
       "    }\n",
       "  }\n",
       "\n",
       "  function register_renderer(events, OutputArea) {\n",
       "\n",
       "    function append_mime(data, metadata, element) {\n",
       "      // create a DOM node to render to\n",
       "      var toinsert = this.create_output_subarea(\n",
       "        metadata,\n",
       "        CLASS_NAME,\n",
       "        EXEC_MIME_TYPE\n",
       "      );\n",
       "      this.keyboard_manager.register_events(toinsert);\n",
       "      // Render to node\n",
       "      var props = {data: data, metadata: metadata[EXEC_MIME_TYPE]};\n",
       "      render(props, toinsert[toinsert.length - 1]);\n",
       "      element.append(toinsert);\n",
       "      return toinsert\n",
       "    }\n",
       "\n",
       "    /* Handle when an output is cleared or removed */\n",
       "    events.on('clear_output.CodeCell', handleClearOutput);\n",
       "    events.on('delete.Cell', handleClearOutput);\n",
       "\n",
       "    /* Handle when a new output is added */\n",
       "    events.on('output_added.OutputArea', handleAddOutput);\n",
       "\n",
       "    /**\n",
       "     * Register the mime type and append_mime function with output_area\n",
       "     */\n",
       "    OutputArea.prototype.register_mime_type(EXEC_MIME_TYPE, append_mime, {\n",
       "      /* Is output safe? */\n",
       "      safe: true,\n",
       "      /* Index of renderer in `output_area.display_order` */\n",
       "      index: 0\n",
       "    });\n",
       "  }\n",
       "\n",
       "  // register the mime type if in Jupyter Notebook environment and previously unregistered\n",
       "  if (root.Jupyter !== undefined) {\n",
       "    var events = require('base/js/events');\n",
       "    var OutputArea = require('notebook/js/outputarea').OutputArea;\n",
       "\n",
       "    if (OutputArea.prototype.mime_types().indexOf(EXEC_MIME_TYPE) == -1) {\n",
       "      register_renderer(events, OutputArea);\n",
       "    }\n",
       "  }\n",
       "\n",
       "  \n",
       "  if (typeof (root._bokeh_timeout) === \"undefined\" || force === true) {\n",
       "    root._bokeh_timeout = Date.now() + 5000;\n",
       "    root._bokeh_failed_load = false;\n",
       "  }\n",
       "\n",
       "  var NB_LOAD_WARNING = {'data': {'text/html':\n",
       "     \"<div style='background-color: #fdd'>\\n\"+\n",
       "     \"<p>\\n\"+\n",
       "     \"BokehJS does not appear to have successfully loaded. If loading BokehJS from CDN, this \\n\"+\n",
       "     \"may be due to a slow or bad network connection. Possible fixes:\\n\"+\n",
       "     \"</p>\\n\"+\n",
       "     \"<ul>\\n\"+\n",
       "     \"<li>re-rerun `output_notebook()` to attempt to load from CDN again, or</li>\\n\"+\n",
       "     \"<li>use INLINE resources instead, as so:</li>\\n\"+\n",
       "     \"</ul>\\n\"+\n",
       "     \"<code>\\n\"+\n",
       "     \"from bokeh.resources import INLINE\\n\"+\n",
       "     \"output_notebook(resources=INLINE)\\n\"+\n",
       "     \"</code>\\n\"+\n",
       "     \"</div>\"}};\n",
       "\n",
       "  function display_loaded() {\n",
       "    var el = document.getElementById(\"1001\");\n",
       "    if (el != null) {\n",
       "      el.textContent = \"BokehJS is loading...\";\n",
       "    }\n",
       "    if (root.Bokeh !== undefined) {\n",
       "      if (el != null) {\n",
       "        el.textContent = \"BokehJS \" + root.Bokeh.version + \" successfully loaded.\";\n",
       "      }\n",
       "    } else if (Date.now() < root._bokeh_timeout) {\n",
       "      setTimeout(display_loaded, 100)\n",
       "    }\n",
       "  }\n",
       "\n",
       "\n",
       "  function run_callbacks() {\n",
       "    try {\n",
       "      root._bokeh_onload_callbacks.forEach(function(callback) {\n",
       "        if (callback != null)\n",
       "          callback();\n",
       "      });\n",
       "    } finally {\n",
       "      delete root._bokeh_onload_callbacks\n",
       "    }\n",
       "    console.debug(\"Bokeh: all callbacks have finished\");\n",
       "  }\n",
       "\n",
       "  function load_libs(css_urls, js_urls, callback) {\n",
       "    if (css_urls == null) css_urls = [];\n",
       "    if (js_urls == null) js_urls = [];\n",
       "\n",
       "    root._bokeh_onload_callbacks.push(callback);\n",
       "    if (root._bokeh_is_loading > 0) {\n",
       "      console.debug(\"Bokeh: BokehJS is being loaded, scheduling callback at\", now());\n",
       "      return null;\n",
       "    }\n",
       "    if (js_urls == null || js_urls.length === 0) {\n",
       "      run_callbacks();\n",
       "      return null;\n",
       "    }\n",
       "    console.debug(\"Bokeh: BokehJS not loaded, scheduling load and callback at\", now());\n",
       "    root._bokeh_is_loading = css_urls.length + js_urls.length;\n",
       "\n",
       "    function on_load() {\n",
       "      root._bokeh_is_loading--;\n",
       "      if (root._bokeh_is_loading === 0) {\n",
       "        console.debug(\"Bokeh: all BokehJS libraries/stylesheets loaded\");\n",
       "        run_callbacks()\n",
       "      }\n",
       "    }\n",
       "\n",
       "    function on_error() {\n",
       "      console.error(\"failed to load \" + url);\n",
       "    }\n",
       "\n",
       "    for (var i = 0; i < css_urls.length; i++) {\n",
       "      var url = css_urls[i];\n",
       "      const element = document.createElement(\"link\");\n",
       "      element.onload = on_load;\n",
       "      element.onerror = on_error;\n",
       "      element.rel = \"stylesheet\";\n",
       "      element.type = \"text/css\";\n",
       "      element.href = url;\n",
       "      console.debug(\"Bokeh: injecting link tag for BokehJS stylesheet: \", url);\n",
       "      document.body.appendChild(element);\n",
       "    }\n",
       "\n",
       "    const hashes = {\"https://cdn.bokeh.org/bokeh/release/bokeh-2.1.1.min.js\": \"kLr4fYcqcSpbuI95brIH3vnnYCquzzSxHPU6XGQCIkQRGJwhg0StNbj1eegrHs12\", \"https://cdn.bokeh.org/bokeh/release/bokeh-widgets-2.1.1.min.js\": \"xIGPmVtaOm+z0BqfSOMn4lOR6ciex448GIKG4eE61LsAvmGj48XcMQZtKcE/UXZe\", \"https://cdn.bokeh.org/bokeh/release/bokeh-tables-2.1.1.min.js\": \"Dc9u1wF/0zApGIWoBbH77iWEHtdmkuYWG839Uzmv8y8yBLXebjO9ZnERsde5Ln/P\", \"https://cdn.bokeh.org/bokeh/release/bokeh-gl-2.1.1.min.js\": \"cT9JaBz7GiRXdENrJLZNSC6eMNF3nh3fa5fTF51Svp+ukxPdwcU5kGXGPBgDCa2j\"};\n",
       "\n",
       "    for (var i = 0; i < js_urls.length; i++) {\n",
       "      var url = js_urls[i];\n",
       "      var element = document.createElement('script');\n",
       "      element.onload = on_load;\n",
       "      element.onerror = on_error;\n",
       "      element.async = false;\n",
       "      element.src = url;\n",
       "      if (url in hashes) {\n",
       "        element.crossOrigin = \"anonymous\";\n",
       "        element.integrity = \"sha384-\" + hashes[url];\n",
       "      }\n",
       "      console.debug(\"Bokeh: injecting script tag for BokehJS library: \", url);\n",
       "      document.head.appendChild(element);\n",
       "    }\n",
       "  };\n",
       "\n",
       "  function inject_raw_css(css) {\n",
       "    const element = document.createElement(\"style\");\n",
       "    element.appendChild(document.createTextNode(css));\n",
       "    document.body.appendChild(element);\n",
       "  }\n",
       "\n",
       "  \n",
       "  var js_urls = [\"https://cdn.bokeh.org/bokeh/release/bokeh-2.1.1.min.js\", \"https://cdn.bokeh.org/bokeh/release/bokeh-widgets-2.1.1.min.js\", \"https://cdn.bokeh.org/bokeh/release/bokeh-tables-2.1.1.min.js\", \"https://cdn.bokeh.org/bokeh/release/bokeh-gl-2.1.1.min.js\"];\n",
       "  var css_urls = [];\n",
       "  \n",
       "\n",
       "  var inline_js = [\n",
       "    function(Bokeh) {\n",
       "      Bokeh.set_log_level(\"info\");\n",
       "    },\n",
       "    function(Bokeh) {\n",
       "    \n",
       "    \n",
       "    }\n",
       "  ];\n",
       "\n",
       "  function run_inline_js() {\n",
       "    \n",
       "    if (root.Bokeh !== undefined || force === true) {\n",
       "      \n",
       "    for (var i = 0; i < inline_js.length; i++) {\n",
       "      inline_js[i].call(root, root.Bokeh);\n",
       "    }\n",
       "    if (force === true) {\n",
       "        display_loaded();\n",
       "      }} else if (Date.now() < root._bokeh_timeout) {\n",
       "      setTimeout(run_inline_js, 100);\n",
       "    } else if (!root._bokeh_failed_load) {\n",
       "      console.log(\"Bokeh: BokehJS failed to load within specified timeout.\");\n",
       "      root._bokeh_failed_load = true;\n",
       "    } else if (force !== true) {\n",
       "      var cell = $(document.getElementById(\"1001\")).parents('.cell').data().cell;\n",
       "      cell.output_area.append_execute_result(NB_LOAD_WARNING)\n",
       "    }\n",
       "\n",
       "  }\n",
       "\n",
       "  if (root._bokeh_is_loading === 0) {\n",
       "    console.debug(\"Bokeh: BokehJS loaded, going straight to plotting\");\n",
       "    run_inline_js();\n",
       "  } else {\n",
       "    load_libs(css_urls, js_urls, function() {\n",
       "      console.debug(\"Bokeh: BokehJS plotting callback run at\", now());\n",
       "      run_inline_js();\n",
       "    });\n",
       "  }\n",
       "}(window));"
      ],
      "application/vnd.bokehjs_load.v0+json": "\n(function(root) {\n  function now() {\n    return new Date();\n  }\n\n  var force = true;\n\n  if (typeof root._bokeh_onload_callbacks === \"undefined\" || force === true) {\n    root._bokeh_onload_callbacks = [];\n    root._bokeh_is_loading = undefined;\n  }\n\n  \n\n  \n  if (typeof (root._bokeh_timeout) === \"undefined\" || force === true) {\n    root._bokeh_timeout = Date.now() + 5000;\n    root._bokeh_failed_load = false;\n  }\n\n  var NB_LOAD_WARNING = {'data': {'text/html':\n     \"<div style='background-color: #fdd'>\\n\"+\n     \"<p>\\n\"+\n     \"BokehJS does not appear to have successfully loaded. If loading BokehJS from CDN, this \\n\"+\n     \"may be due to a slow or bad network connection. Possible fixes:\\n\"+\n     \"</p>\\n\"+\n     \"<ul>\\n\"+\n     \"<li>re-rerun `output_notebook()` to attempt to load from CDN again, or</li>\\n\"+\n     \"<li>use INLINE resources instead, as so:</li>\\n\"+\n     \"</ul>\\n\"+\n     \"<code>\\n\"+\n     \"from bokeh.resources import INLINE\\n\"+\n     \"output_notebook(resources=INLINE)\\n\"+\n     \"</code>\\n\"+\n     \"</div>\"}};\n\n  function display_loaded() {\n    var el = document.getElementById(\"1001\");\n    if (el != null) {\n      el.textContent = \"BokehJS is loading...\";\n    }\n    if (root.Bokeh !== undefined) {\n      if (el != null) {\n        el.textContent = \"BokehJS \" + root.Bokeh.version + \" successfully loaded.\";\n      }\n    } else if (Date.now() < root._bokeh_timeout) {\n      setTimeout(display_loaded, 100)\n    }\n  }\n\n\n  function run_callbacks() {\n    try {\n      root._bokeh_onload_callbacks.forEach(function(callback) {\n        if (callback != null)\n          callback();\n      });\n    } finally {\n      delete root._bokeh_onload_callbacks\n    }\n    console.debug(\"Bokeh: all callbacks have finished\");\n  }\n\n  function load_libs(css_urls, js_urls, callback) {\n    if (css_urls == null) css_urls = [];\n    if (js_urls == null) js_urls = [];\n\n    root._bokeh_onload_callbacks.push(callback);\n    if (root._bokeh_is_loading > 0) {\n      console.debug(\"Bokeh: BokehJS is being loaded, scheduling callback at\", now());\n      return null;\n    }\n    if (js_urls == null || js_urls.length === 0) {\n      run_callbacks();\n      return null;\n    }\n    console.debug(\"Bokeh: BokehJS not loaded, scheduling load and callback at\", now());\n    root._bokeh_is_loading = css_urls.length + js_urls.length;\n\n    function on_load() {\n      root._bokeh_is_loading--;\n      if (root._bokeh_is_loading === 0) {\n        console.debug(\"Bokeh: all BokehJS libraries/stylesheets loaded\");\n        run_callbacks()\n      }\n    }\n\n    function on_error() {\n      console.error(\"failed to load \" + url);\n    }\n\n    for (var i = 0; i < css_urls.length; i++) {\n      var url = css_urls[i];\n      const element = document.createElement(\"link\");\n      element.onload = on_load;\n      element.onerror = on_error;\n      element.rel = \"stylesheet\";\n      element.type = \"text/css\";\n      element.href = url;\n      console.debug(\"Bokeh: injecting link tag for BokehJS stylesheet: \", url);\n      document.body.appendChild(element);\n    }\n\n    const hashes = {\"https://cdn.bokeh.org/bokeh/release/bokeh-2.1.1.min.js\": \"kLr4fYcqcSpbuI95brIH3vnnYCquzzSxHPU6XGQCIkQRGJwhg0StNbj1eegrHs12\", \"https://cdn.bokeh.org/bokeh/release/bokeh-widgets-2.1.1.min.js\": \"xIGPmVtaOm+z0BqfSOMn4lOR6ciex448GIKG4eE61LsAvmGj48XcMQZtKcE/UXZe\", \"https://cdn.bokeh.org/bokeh/release/bokeh-tables-2.1.1.min.js\": \"Dc9u1wF/0zApGIWoBbH77iWEHtdmkuYWG839Uzmv8y8yBLXebjO9ZnERsde5Ln/P\", \"https://cdn.bokeh.org/bokeh/release/bokeh-gl-2.1.1.min.js\": \"cT9JaBz7GiRXdENrJLZNSC6eMNF3nh3fa5fTF51Svp+ukxPdwcU5kGXGPBgDCa2j\"};\n\n    for (var i = 0; i < js_urls.length; i++) {\n      var url = js_urls[i];\n      var element = document.createElement('script');\n      element.onload = on_load;\n      element.onerror = on_error;\n      element.async = false;\n      element.src = url;\n      if (url in hashes) {\n        element.crossOrigin = \"anonymous\";\n        element.integrity = \"sha384-\" + hashes[url];\n      }\n      console.debug(\"Bokeh: injecting script tag for BokehJS library: \", url);\n      document.head.appendChild(element);\n    }\n  };\n\n  function inject_raw_css(css) {\n    const element = document.createElement(\"style\");\n    element.appendChild(document.createTextNode(css));\n    document.body.appendChild(element);\n  }\n\n  \n  var js_urls = [\"https://cdn.bokeh.org/bokeh/release/bokeh-2.1.1.min.js\", \"https://cdn.bokeh.org/bokeh/release/bokeh-widgets-2.1.1.min.js\", \"https://cdn.bokeh.org/bokeh/release/bokeh-tables-2.1.1.min.js\", \"https://cdn.bokeh.org/bokeh/release/bokeh-gl-2.1.1.min.js\"];\n  var css_urls = [];\n  \n\n  var inline_js = [\n    function(Bokeh) {\n      Bokeh.set_log_level(\"info\");\n    },\n    function(Bokeh) {\n    \n    \n    }\n  ];\n\n  function run_inline_js() {\n    \n    if (root.Bokeh !== undefined || force === true) {\n      \n    for (var i = 0; i < inline_js.length; i++) {\n      inline_js[i].call(root, root.Bokeh);\n    }\n    if (force === true) {\n        display_loaded();\n      }} else if (Date.now() < root._bokeh_timeout) {\n      setTimeout(run_inline_js, 100);\n    } else if (!root._bokeh_failed_load) {\n      console.log(\"Bokeh: BokehJS failed to load within specified timeout.\");\n      root._bokeh_failed_load = true;\n    } else if (force !== true) {\n      var cell = $(document.getElementById(\"1001\")).parents('.cell').data().cell;\n      cell.output_area.append_execute_result(NB_LOAD_WARNING)\n    }\n\n  }\n\n  if (root._bokeh_is_loading === 0) {\n    console.debug(\"Bokeh: BokehJS loaded, going straight to plotting\");\n    run_inline_js();\n  } else {\n    load_libs(css_urls, js_urls, function() {\n      console.debug(\"Bokeh: BokehJS plotting callback run at\", now());\n      run_inline_js();\n    });\n  }\n}(window));"
     },
     "metadata": {},
     "output_type": "display_data"
    }
   ],
   "source": [
    "from bokeh.layouts import gridplot\n",
    "from bokeh.plotting import figure, output_file, show\n",
    "bokeh.io.output_notebook() "
   ]
  },
  {
   "cell_type": "code",
   "execution_count": 18,
   "metadata": {},
   "outputs": [],
   "source": [
    "x = json_output['forecast']['time']\n",
    "x = np.array(x,dtype=np.datetime64)"
   ]
  },
  {
   "cell_type": "markdown",
   "metadata": {},
   "source": [
    "### NOTE: These interactive plots won't display on GitHub. Click this [link](https://raw.githubusercontent.com/sridge/wx-forecast-api-demo/master/temperature.html) and \"right click\"->\"save as\" and reopen the file"
   ]
  },
  {
   "cell_type": "code",
   "execution_count": 19,
   "metadata": {},
   "outputs": [
    {
     "data": {
      "text/html": [
       "\n",
       "\n",
       "\n",
       "\n",
       "\n",
       "\n",
       "  <div class=\"bk-root\" id=\"2847db0b-b893-414c-8ef4-825357c4d95c\" data-root-id=\"1005\"></div>\n"
      ]
     },
     "metadata": {},
     "output_type": "display_data"
    },
    {
     "data": {
      "application/javascript": [
       "(function(root) {\n",
       "  function embed_document(root) {\n",
       "    \n",
       "  var docs_json = {\"221036de-8d37-4d28-a707-f2935c1648ce\":{\"roots\":{\"references\":[{\"attributes\":{\"below\":[{\"id\":\"1016\"}],\"center\":[{\"id\":\"1019\"},{\"id\":\"1023\"}],\"left\":[{\"id\":\"1020\"}],\"plot_height\":300,\"renderers\":[{\"id\":\"1031\"},{\"id\":\"1036\"}],\"title\":{\"id\":\"1006\"},\"toolbar\":{\"id\":\"1024\"},\"toolbar_location\":\"below\",\"x_range\":{\"id\":\"1008\"},\"x_scale\":{\"id\":\"1012\"},\"y_range\":{\"id\":\"1010\"},\"y_scale\":{\"id\":\"1014\"}},\"id\":\"1005\",\"subtype\":\"Figure\",\"type\":\"Plot\"},{\"attributes\":{\"active_drag\":\"auto\",\"active_inspect\":\"auto\",\"active_multi\":null,\"active_scroll\":\"auto\",\"active_tap\":\"auto\",\"tools\":[{\"id\":\"1002\"},{\"id\":\"1003\"},{\"id\":\"1004\"}]},\"id\":\"1024\",\"type\":\"Toolbar\"},{\"attributes\":{\"num_minor_ticks\":5,\"tickers\":[{\"id\":\"1047\"},{\"id\":\"1048\"},{\"id\":\"1049\"},{\"id\":\"1050\"},{\"id\":\"1051\"},{\"id\":\"1052\"},{\"id\":\"1053\"},{\"id\":\"1054\"},{\"id\":\"1055\"},{\"id\":\"1056\"},{\"id\":\"1057\"},{\"id\":\"1058\"}]},\"id\":\"1017\",\"type\":\"DatetimeTicker\"},{\"attributes\":{\"months\":[0,2,4,6,8,10]},\"id\":\"1055\",\"type\":\"MonthsTicker\"},{\"attributes\":{\"source\":{\"id\":\"1033\"}},\"id\":\"1037\",\"type\":\"CDSView\"},{\"attributes\":{\"data_source\":{\"id\":\"1028\"},\"glyph\":{\"id\":\"1029\"},\"hover_glyph\":null,\"muted_glyph\":null,\"nonselection_glyph\":{\"id\":\"1030\"},\"selection_glyph\":null,\"view\":{\"id\":\"1032\"}},\"id\":\"1031\",\"type\":\"GlyphRenderer\"},{\"attributes\":{\"formatter\":{\"id\":\"1039\"},\"ticker\":{\"id\":\"1017\"}},\"id\":\"1016\",\"type\":\"DatetimeAxis\"},{\"attributes\":{\"days\":[1,8,15,22]},\"id\":\"1052\",\"type\":\"DaysTicker\"},{\"attributes\":{\"fill_alpha\":0.1,\"fill_color\":\"#D1D1D1\",\"x\":{\"field\":\"x\"},\"y1\":{\"field\":\"y1\"},\"y2\":{\"field\":\"y2\"}},\"id\":\"1030\",\"type\":\"VArea\"},{\"attributes\":{\"mantissas\":[1,2,5],\"max_interval\":500.0,\"num_minor_ticks\":0},\"id\":\"1047\",\"type\":\"AdaptiveTicker\"},{\"attributes\":{},\"id\":\"1046\",\"type\":\"Selection\"},{\"attributes\":{\"months\":[0,6]},\"id\":\"1057\",\"type\":\"MonthsTicker\"},{\"attributes\":{\"data\":{\"x\":{\"__ndarray__\":\"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\",\"dtype\":\"float64\",\"order\":\"little\",\"shape\":[384]},\"y1\":[16.7,14.6,12.9,11.8,11.5,11.2,10.9,10.7,10.5,10.2,9.9,10.5,11.8,13.5,14.7,15.5,16.3,16.9,17.4,17.9,18.3,18.5,18.2,17.5,16.1,14.7,13.5,12.9,12.2,11.4,10.9,10.7,10.5,10.2,10.0,10.4,11.6,13.2,14.6,15.7,16.8,17.6,17.7,16.8,15.4,13.8,12.1,11.0,10.5,10.6,10.7,10.7,10.5,10.2,10.0,9.7,9.4,9.0,8.5,8.9,10.2,12.3,14.3,16.0,17.5,18.6,19.2,19.5,19.6,19.3,18.9,18.2,17.4,16.5,15.6,14.6,13.6,12.8,12.2,11.8,11.4,11.0,10.6,11.0,12.0,13.2,14.0,14.6,15.2,15.9,16.5,17.2,17.9,18.2,18.3,17.9,16.8,15.2,13.8,13.0,12.2,11.6,11.1,10.9,10.6,10.2,9.8,10.1,11.3,13.1,14.5,15.3,15.9,16.5,17.4,18.1,18.4,18.3,18.1,17.7,17.1,16.3,15.3,14.3,13.2,12.4,11.8,11.5,11.2,10.9,10.6,11.0,12.2,14.0,15.4,16.6,17.7,18.5,19.2,19.7,20.0,19.9,19.4,18.7,18.0,17.1,16.3,15.3,14.2,13.3,12.6,12.2,11.8,11.4,11.0,11.3,12.0,13.3,14.2,15.2,16.0,16.6,17.0,17.1,16.9,16.5,15.8,15.1,14.5,14.2,13.9,13.6,12.8,12.0,11.3,11.2,11.1,11.0,10.7,11.0,11.5,12.3,12.8,13.2,13.7,14.1,14.4,14.5,14.6,14.8,14.7,14.6,14.2,13.9,13.6,13.3,12.7,12.1,11.5,11.1,10.7,10.3,9.9,10.3,11.1,12.1,12.4,12.8,13.1,13.5,13.9,14.4,14.8,15.2,15.4,15.3,14.9,14.3,13.7,13.0,12.3,11.7,11.2,10.9,10.6,10.3,10.0,10.5,11.4,12.7,13.5,14.2,14.9,15.3,15.4,15.3,15.1,15.0,14.8,14.5,14.0,13.5,12.9,12.3,11.7,11.2,10.8,10.6,10.3,10.1,9.8,10.3,11.5,13.1,14.3,15.1,15.9,16.3,16.4,16.1,15.9,15.6,15.3,15.1,14.8,14.4,14.0,13.3,12.4,11.6,10.9,10.7,10.4,10.2,9.9,10.4,11.2,12.2,12.8,13.3,13.9,14.4,14.9,15.3,15.4,15.2,14.9,14.5,14.1,13.5,12.8,12.1,11.4,10.8,10.2,9.8,9.4,9.0,8.6,9.4,11.2,13.4,14.8,15.7,16.6,17.3,17.8,17.9,17.9,17.7,17.6,17.2,16.5,15.5,14.3,13.1,11.9,11.0,10.4,10.2,10.0,9.8,9.6,10.2,11.1,12.4,13.1,13.6,14.1,14.5,14.8,14.9,15.0,15.2,15.3,15.2,14.9,14.1,13.1,12.0,11.0,10.2,9.6,9.4,9.2,9.0,8.8,9.3,10.7,12.6,14.0,14.9,15.6,15.9,16.1,16.0,15.9,15.8,15.7,15.5,15.0,14.2,13.3,12.3,11.4,10.7,10.3,10.1,9.9,9.8,9.6,10.1,10.9,12.0,12.8,13.2,13.4,13.3,13.3,13.3,13.3,13.3,13.3,null],\"y2\":[20.0,18.5,17.1,15.6,15.1,14.9,15.2,14.8,14.4,14.0,13.6,13.7,14.5,16.8,19.7,22.5,24.6,25.3,24.9,23.6,22.4,21.7,21.5,21.2,20.5,19.3,18.1,17.0,16.0,15.2,14.5,14.1,13.6,13.2,12.7,12.8,13.7,15.7,17.9,19.9,21.5,22.1,21.9,20.9,20.6,20.8,21.2,21.1,20.5,19.3,18.2,17.1,15.9,15.0,14.4,14.0,13.5,13.1,12.7,12.8,13.6,14.9,16.3,18.1,20.2,21.5,22.3,22.4,22.7,22.6,22.6,22.1,21.5,20.4,19.3,18.3,17.3,16.4,15.7,15.2,14.7,14.2,13.7,13.9,14.6,15.9,17.4,19.1,21.2,22.4,22.9,22.5,22.3,22.3,22.5,22.3,21.6,20.4,19.3,18.2,17.1,16.2,15.5,15.1,14.6,14.2,13.7,13.9,14.6,15.9,17.6,19.6,21.9,23.2,23.6,23.0,22.6,22.6,23.0,22.9,22.2,20.9,19.7,18.5,17.4,16.6,15.9,15.5,15.1,14.8,14.5,14.7,15.4,17.1,19.4,22.1,24.8,26.3,26.6,25.6,24.6,23.9,23.8,23.6,23.0,21.8,20.8,19.8,18.8,18.0,17.3,16.7,16.1,15.4,14.8,14.8,15.3,16.9,19.1,21.6,24.2,25.5,25.6,24.6,23.8,23.1,23.0,22.6,22.0,20.7,19.6,18.6,17.8,17.1,16.5,16.0,15.6,15.2,14.7,14.7,15.3,17.0,19.3,22.0,24.7,26.2,26.3,25.4,24.8,24.4,24.1,23.4,22.6,21.8,21.3,20.9,20.4,20.0,19.5,19.0,18.5,18.0,17.5,17.5,17.8,18.6,19.9,21.8,24.5,26.1,26.7,26.1,25.5,24.9,24.3,23.5,22.7,21.7,20.9,20.1,19.3,18.6,17.8,17.1,16.3,15.7,15.3,15.2,15.8,17.2,19.4,22.0,24.7,26.2,26.5,25.5,24.8,24.7,25.0,24.9,24.3,23.1,22.0,20.8,19.7,18.7,18.1,17.6,17.2,16.8,16.4,16.5,17.3,18.6,20.4,22.7,25.5,27.0,27.3,26.4,25.5,24.7,24.4,24.0,23.4,22.4,21.3,20.3,19.4,18.5,17.9,17.3,16.7,16.2,15.6,15.8,16.7,18.4,20.6,23.2,26.1,27.8,28.3,27.5,26.6,25.8,25.4,25.0,24.4,23.4,22.4,21.4,20.4,19.6,19.0,18.6,18.2,17.8,17.5,17.6,18.3,19.6,21.4,23.8,26.7,28.4,28.7,27.9,27.2,26.7,26.4,26.0,25.3,24.2,23.0,21.9,20.7,19.7,18.8,18.1,17.5,17.2,17.1,17.4,18.2,19.4,20.8,22.8,25.4,27.1,27.8,27.3,27.2,27.4,27.8,27.8,27.0,25.5,24.1,22.6,21.1,20.0,19.1,18.4,17.8,17.2,16.6,16.7,17.6,19.4,21.4,23.7,26.2,27.6,28.0,27.5,27.2,27.1,27.2,26.8,26.1,24.8,23.5,22.2,20.9,19.7,18.6,17.7,17.1,16.8,16.7,17.0,17.7,19.0,20.8,23.2,26.0,27.9,28.6,28.3,27.9,27.7,27.7,null]},\"selected\":{\"id\":\"1044\"},\"selection_policy\":{\"id\":\"1043\"}},\"id\":\"1028\",\"type\":\"ColumnDataSource\"},{\"attributes\":{\"base\":24,\"mantissas\":[1,2,4,6,8,12],\"max_interval\":43200000.0,\"min_interval\":3600000.0,\"num_minor_ticks\":0},\"id\":\"1049\",\"type\":\"AdaptiveTicker\"},{\"attributes\":{\"callback\":null,\"formatters\":{\"@x\":\"datetime\"},\"mode\":\"vline\",\"tooltips\":[[\"Temperature\",\"$y{0.1f}\\u00b0C\"],[\"Time (UTC)\",\"@x{%I %p %F}\"]]},\"id\":\"1002\",\"type\":\"HoverTool\"},{\"attributes\":{},\"id\":\"1014\",\"type\":\"LinearScale\"},{\"attributes\":{\"source\":{\"id\":\"1028\"}},\"id\":\"1032\",\"type\":\"CDSView\"},{\"attributes\":{\"days\":[1,15]},\"id\":\"1053\",\"type\":\"DaysTicker\"},{\"attributes\":{\"formatter\":{\"id\":\"1041\"},\"ticker\":{\"id\":\"1021\"}},\"id\":\"1020\",\"type\":\"LinearAxis\"},{\"attributes\":{\"line_color\":\"orange\",\"line_width\":3,\"x\":{\"field\":\"x\"},\"y\":{\"field\":\"y\"}},\"id\":\"1034\",\"type\":\"Line\"},{\"attributes\":{\"days\":[1,2,3,4,5,6,7,8,9,10,11,12,13,14,15,16,17,18,19,20,21,22,23,24,25,26,27,28,29,30,31]},\"id\":\"1050\",\"type\":\"DaysTicker\"},{\"attributes\":{\"axis\":{\"id\":\"1020\"},\"dimension\":1,\"grid_line_width\":0.5,\"ticker\":null},\"id\":\"1023\",\"type\":\"Grid\"},{\"attributes\":{},\"id\":\"1012\",\"type\":\"LinearScale\"},{\"attributes\":{\"days\":[1,4,7,10,13,16,19,22,25,28]},\"id\":\"1051\",\"type\":\"DaysTicker\"},{\"attributes\":{\"line_alpha\":0.1,\"line_color\":\"orange\",\"line_width\":3,\"x\":{\"field\":\"x\"},\"y\":{\"field\":\"y\"}},\"id\":\"1035\",\"type\":\"Line\"},{\"attributes\":{},\"id\":\"1021\",\"type\":\"BasicTicker\"},{\"attributes\":{\"months\":[0,4,8]},\"id\":\"1056\",\"type\":\"MonthsTicker\"},{\"attributes\":{\"axis\":{\"id\":\"1016\"},\"grid_line_color\":null,\"ticker\":null},\"id\":\"1019\",\"type\":\"Grid\"},{\"attributes\":{\"data\":{\"x\":{\"__ndarray__\":\"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\",\"dtype\":\"float64\",\"order\":\"little\",\"shape\":[384]},\"y\":[18.7,15.9,13.9,13.2,12.3,12.8,12.7,12.3,11.8,11.5,11.2,11.0,12.8,15.2,17.6,19.8,21.4,22.4,22.0,21.4,21.1,20.4,19.4,19.3,18.1,16.4,15.3,14.5,13.5,12.8,12.5,11.9,11.6,11.5,11.4,11.4,12.8,14.5,16.6,18.0,18.9,20.0,19.7,19.5,18.5,17.4,16.7,15.6,15.5,14.7,13.8,13.1,12.5,12.1,11.8,11.5,11.1,10.5,10.2,9.9,11.5,13.4,15.1,16.9,18.6,20.4,21.0,21.3,21.5,21.7,21.4,21.1,19.7,18.2,17.1,16.2,15.3,14.1,13.7,13.5,13.2,12.8,12.4,12.1,13.4,14.9,16.1,17.2,18.5,19.5,19.6,19.9,20.0,20.1,20.2,20.2,18.7,17.2,16.0,15.0,14.4,13.4,13.0,12.6,12.3,12.0,11.8,11.4,12.9,14.7,16.5,17.9,19.3,20.4,20.6,20.7,20.8,20.8,20.9,20.8,20.0,18.9,17.7,16.6,15.4,14.3,13.9,13.5,13.2,12.8,12.4,12.1,13.7,15.3,17.0,18.6,20.2,21.9,21.8,21.7,21.7,21.6,21.6,21.5,20.4,19.3,18.2,17.1,16.0,14.9,14.4,14.0,13.6,13.2,12.8,12.3,13.7,15.2,16.6,18.0,19.4,20.8,20.7,20.6,20.5,20.3,20.2,20.1,19.1,18.2,17.2,16.3,15.3,14.4,14.0,13.7,13.3,12.9,12.6,12.2,13.6,15.0,16.3,17.7,19.0,20.4,20.2,20.0,19.9,19.7,19.6,19.4,18.5,17.7,16.8,15.9,15.0,14.2,13.8,13.5,13.2,12.8,12.5,12.1,13.5,15.0,16.4,17.8,19.2,20.6,20.5,20.4,20.3,20.2,20.1,20.0,19.0,18.1,17.1,16.2,15.3,14.3,14.0,13.7,13.3,13.0,12.7,12.3,13.9,15.4,16.9,18.4,19.9,21.5,21.4,21.3,21.1,21.0,20.9,20.8,19.8,18.9,17.9,16.9,15.9,14.9,14.5,14.1,13.6,13.2,12.8,12.4,13.9,15.5,17.1,18.7,20.3,21.9,21.6,21.3,21.1,20.8,20.5,20.3,19.3,18.4,17.4,16.5,15.5,14.6,14.2,13.8,13.5,13.1,12.8,12.4,14.0,15.7,17.3,18.9,20.5,22.2,22.0,21.7,21.5,21.3,21.1,20.9,19.9,18.8,17.8,16.8,15.8,14.8,14.4,14.1,13.7,13.3,13.0,12.6,14.3,15.9,17.6,19.3,20.9,22.6,22.5,22.3,22.2,22.1,21.9,21.8,20.7,19.5,18.4,17.2,16.0,14.9,14.5,14.0,13.6,13.2,12.7,12.3,14.0,15.7,17.5,19.2,20.9,22.7,22.6,22.5,22.4,22.3,22.2,22.2,20.9,19.7,18.4,17.2,16.0,14.7,14.3,13.9,13.4,13.0,12.6,12.2,13.9,15.6,17.3,19.1,20.8,22.5,22.4,22.4,22.3,22.2,22.1,22.0,20.8,19.6,18.3,17.1,15.8,14.6,14.2,13.9,13.5,13.1,12.8,12.4,14.0,15.6,17.2,18.8,20.5,22.1,22.0,21.8,21.7,21.6,21.5,21.4]},\"selected\":{\"id\":\"1046\"},\"selection_policy\":{\"id\":\"1045\"}},\"id\":\"1033\",\"type\":\"ColumnDataSource\"},{\"attributes\":{\"data_source\":{\"id\":\"1033\"},\"glyph\":{\"id\":\"1034\"},\"hover_glyph\":null,\"muted_glyph\":null,\"nonselection_glyph\":{\"id\":\"1035\"},\"selection_glyph\":null,\"view\":{\"id\":\"1037\"}},\"id\":\"1036\",\"type\":\"GlyphRenderer\"},{\"attributes\":{},\"id\":\"1004\",\"type\":\"SaveTool\"},{\"attributes\":{\"base\":60,\"mantissas\":[1,2,5,10,15,20,30],\"max_interval\":1800000.0,\"min_interval\":1000.0,\"num_minor_ticks\":0},\"id\":\"1048\",\"type\":\"AdaptiveTicker\"},{\"attributes\":{},\"id\":\"1010\",\"type\":\"DataRange1d\"},{\"attributes\":{},\"id\":\"1058\",\"type\":\"YearsTicker\"},{\"attributes\":{},\"id\":\"1041\",\"type\":\"BasicTickFormatter\"},{\"attributes\":{},\"id\":\"1043\",\"type\":\"UnionRenderers\"},{\"attributes\":{},\"id\":\"1003\",\"type\":\"PanTool\"},{\"attributes\":{},\"id\":\"1045\",\"type\":\"UnionRenderers\"},{\"attributes\":{\"end\":1595721600000.0,\"start\":1595293200000.0},\"id\":\"1008\",\"type\":\"Range1d\"},{\"attributes\":{},\"id\":\"1044\",\"type\":\"Selection\"},{\"attributes\":{\"text\":\"Temperature (\\u00b0C)\"},\"id\":\"1006\",\"type\":\"Title\"},{\"attributes\":{},\"id\":\"1039\",\"type\":\"DatetimeTickFormatter\"},{\"attributes\":{\"months\":[0,1,2,3,4,5,6,7,8,9,10,11]},\"id\":\"1054\",\"type\":\"MonthsTicker\"},{\"attributes\":{\"fill_alpha\":0.5,\"fill_color\":\"#D1D1D1\",\"x\":{\"field\":\"x\"},\"y1\":{\"field\":\"y1\"},\"y2\":{\"field\":\"y2\"}},\"id\":\"1029\",\"type\":\"VArea\"}],\"root_ids\":[\"1005\"]},\"title\":\"Bokeh Application\",\"version\":\"2.1.1\"}};\n",
       "  var render_items = [{\"docid\":\"221036de-8d37-4d28-a707-f2935c1648ce\",\"root_ids\":[\"1005\"],\"roots\":{\"1005\":\"2847db0b-b893-414c-8ef4-825357c4d95c\"}}];\n",
       "  root.Bokeh.embed.embed_items_notebook(docs_json, render_items);\n",
       "\n",
       "  }\n",
       "  if (root.Bokeh !== undefined) {\n",
       "    embed_document(root);\n",
       "  } else {\n",
       "    var attempts = 0;\n",
       "    var timer = setInterval(function(root) {\n",
       "      if (root.Bokeh !== undefined) {\n",
       "        clearInterval(timer);\n",
       "        embed_document(root);\n",
       "      } else {\n",
       "        attempts++;\n",
       "        if (attempts > 100) {\n",
       "          clearInterval(timer);\n",
       "          console.log(\"Bokeh: ERROR: Unable to run BokehJS code because BokehJS library is missing\");\n",
       "        }\n",
       "      }\n",
       "    }, 10, root)\n",
       "  }\n",
       "})(window);"
      ],
      "application/vnd.bokehjs_exec.v0+json": ""
     },
     "metadata": {
      "application/vnd.bokehjs_exec.v0+json": {
       "id": "1005"
      }
     },
     "output_type": "display_data"
    }
   ],
   "source": [
    "utils.plot_forecast(x,json_output,'Temperature','°C','orange')"
   ]
  }
 ],
 "metadata": {
  "kernelspec": {
   "display_name": "Python 3",
   "language": "python",
   "name": "python3"
  },
  "language_info": {
   "codemirror_mode": {
    "name": "ipython",
    "version": 3
   },
   "file_extension": ".py",
   "mimetype": "text/x-python",
   "name": "python",
   "nbconvert_exporter": "python",
   "pygments_lexer": "ipython3",
   "version": "3.7.6"
  }
 },
 "nbformat": 4,
 "nbformat_minor": 4
}
